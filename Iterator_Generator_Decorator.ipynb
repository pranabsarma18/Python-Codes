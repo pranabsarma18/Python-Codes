{
  "nbformat": 4,
  "nbformat_minor": 0,
  "metadata": {
    "colab": {
      "provenance": [],
      "include_colab_link": true
    },
    "kernelspec": {
      "name": "python3",
      "display_name": "Python 3"
    },
    "language_info": {
      "name": "python"
    }
  },
  "cells": [
    {
      "cell_type": "markdown",
      "metadata": {
        "id": "view-in-github",
        "colab_type": "text"
      },
      "source": [
        "<a href=\"https://colab.research.google.com/github/pranabsarma18/Python-Codes/blob/main/Iterator_Generator_Decorator.ipynb\" target=\"_parent\"><img src=\"https://colab.research.google.com/assets/colab-badge.svg\" alt=\"Open In Colab\"/></a>"
      ]
    },
    {
      "cell_type": "markdown",
      "source": [
        "## Namespace and Scope"
      ],
      "metadata": {
        "id": "hM8V4LxHKV6x"
      }
    },
    {
      "cell_type": "markdown",
      "source": [
        "###`Q1:` Write `Person` Class as given below and then display it's namespace.\n",
        "\n"
      ],
      "metadata": {
        "id": "Kl3s2TonKYgY"
      }
    },
    {
      "cell_type": "markdown",
      "source": [
        "```\n",
        "Class Name - Person\n",
        "\n",
        "Attributes:\n",
        "name - public\n",
        "state - public\n",
        "city - private\n",
        "age - private\n",
        "\n",
        "Methods:\n",
        "address - public\n",
        "It give address of the person as \"<name>, <city>, <state>\"\n",
        "```"
      ],
      "metadata": {
        "id": "grudG97hL83C"
      }
    },
    {
      "cell_type": "code",
      "source": [
        "#Write your code here\n",
        "class Person:\n",
        "    def __init__(self, name, state, city, age):\n",
        "        self.name = name\n",
        "        self.state = state\n",
        "        self._city = city\n",
        "        self._age = age\n",
        "        \n",
        "    def address(self):\n",
        "        return f\"{self.name}, {self._city}, {self.state}\""
      ],
      "metadata": {
        "id": "BRq-I4jmKX0U"
      },
      "execution_count": 59,
      "outputs": []
    },
    {
      "cell_type": "markdown",
      "source": [
        "###`Q2:` Write a program to show namespace of object/instance of above(Person) class."
      ],
      "metadata": {
        "id": "NLtOPOXDL_zB"
      }
    },
    {
      "cell_type": "code",
      "source": [
        "# Write your code here"
      ],
      "metadata": {
        "id": "w3fj9tf0MJ3Z"
      },
      "execution_count": 60,
      "outputs": []
    },
    {
      "cell_type": "code",
      "source": [
        "person = Person('John', 'New York', 'NYC', 25)\n",
        "print(dir(person))"
      ],
      "metadata": {
        "id": "J2C13ZiuNGP3",
        "colab": {
          "base_uri": "https://localhost:8080/"
        },
        "outputId": "668593ac-3e28-43f1-8ae6-7c2c6620b9c7"
      },
      "execution_count": 61,
      "outputs": [
        {
          "output_type": "stream",
          "name": "stdout",
          "text": [
            "['__class__', '__delattr__', '__dict__', '__dir__', '__doc__', '__eq__', '__format__', '__ge__', '__getattribute__', '__gt__', '__hash__', '__init__', '__init_subclass__', '__le__', '__lt__', '__module__', '__ne__', '__new__', '__reduce__', '__reduce_ex__', '__repr__', '__setattr__', '__sizeof__', '__str__', '__subclasshook__', '__weakref__', '_age', '_city', 'address', 'name', 'state']\n"
          ]
        }
      ]
    },
    {
      "cell_type": "markdown",
      "source": [
        "###`Q3:` Write a recursive program to to calculate `gcd` and print no. of function calls taken to find the solution.\n",
        "```\n",
        "gcd(5,10) -> result in 5 as gcd and function call 4\n",
        "```"
      ],
      "metadata": {
        "id": "rRnCZmlUY8sn"
      }
    },
    {
      "cell_type": "code",
      "source": [
        "#Write your code here\n",
        "def gcd(a, b, count=0):\n",
        "    count += 1\n",
        "    if b == 0:\n",
        "        print(f\"Number of function calls: {count}\")\n",
        "        return a\n",
        "    else:\n",
        "        return gcd(b, a % b, count)\n",
        "\n",
        "a = 60\n",
        "b = 48\n",
        "result = gcd(a, b)\n",
        "print(f\"GCD of {a} and {b} is: {result}\")\n"
      ],
      "metadata": {
        "id": "jYiVzxhUZRln",
        "colab": {
          "base_uri": "https://localhost:8080/"
        },
        "outputId": "eaf2e8e2-50cc-4332-cade-0d61634e1515"
      },
      "execution_count": 62,
      "outputs": [
        {
          "output_type": "stream",
          "name": "stdout",
          "text": [
            "Number of function calls: 3\n",
            "GCD of 60 and 48 is: 12\n"
          ]
        }
      ]
    },
    {
      "cell_type": "markdown",
      "source": [
        "## Itterator And Generator"
      ],
      "metadata": {
        "id": "FbDepR9QNGnh"
      }
    },
    {
      "cell_type": "markdown",
      "source": [
        "###`Q4:` Create MyEnumerate class, \n",
        "Create your own `MyEnumerate` class such that someone can use it instead of enumerate. It will need to return a `tuple` with each iteration, with the first element in the tuple being the `index` (starting with 0) and the second element being the `current element` from the underlying data structure. Trying to use `MyEnumerate` with a noniterable argument will result in an error.\n",
        "\n",
        "```\n",
        "for index, letter in MyEnumerate('abc'):\n",
        "    print(f'{index} : {letter}')\n",
        "```\n",
        "\n",
        "Output:\n",
        "```\n",
        "0 : a\n",
        "1 : b\n",
        "2 : c\n",
        "```"
      ],
      "metadata": {
        "id": "Nj5WaR_4NJTu"
      }
    },
    {
      "cell_type": "code",
      "source": [
        "#Write your code here"
      ],
      "metadata": {
        "id": "6zjcm2gxNbfJ"
      },
      "execution_count": 63,
      "outputs": []
    },
    {
      "cell_type": "code",
      "source": [
        "class MyEnumerate:\n",
        "    def __init__(self, data):\n",
        "        if not hasattr(data, '__iter__'):\n",
        "            raise TypeError(\"MyEnumerate requires an iterable object\")\n",
        "        self.data = data\n",
        "        self.index = -1\n",
        "        \n",
        "    def __iter__(self):\n",
        "        return self\n",
        "    \n",
        "    def __next__(self):\n",
        "        self.index += 1\n",
        "        try:\n",
        "            return (self.index, self.data[self.index])\n",
        "        except IndexError:\n",
        "            raise StopIteration\n",
        "\n",
        "for index, letter in MyEnumerate('abc'):\n",
        "    print(f'{index} : {letter}')"
      ],
      "metadata": {
        "colab": {
          "base_uri": "https://localhost:8080/"
        },
        "id": "m_gdOG4ANkVN",
        "outputId": "b6285f30-1339-4645-8deb-0650cc688cf6"
      },
      "execution_count": 64,
      "outputs": [
        {
          "output_type": "stream",
          "name": "stdout",
          "text": [
            "0 : a\n",
            "1 : b\n",
            "2 : c\n"
          ]
        }
      ]
    },
    {
      "cell_type": "markdown",
      "source": [
        "###`Q5:` Iterate in circle\n",
        "Define a class, `Circle`, that takes two arguments when defined: a sequence and a number. The idea is that the object will then return elements the defined number of times. If the number is greater than the number of elements, then the sequence  repeats as necessary. You can define an another class used as a helper (like I call `CircleIterator`).\n",
        "\n",
        "```\n",
        "c = Circle('abc', 5)\n",
        "d = Circle('abc', 7)\n",
        "print(list(c))\n",
        "print(list(d))\n",
        "```\n",
        "\n",
        "Output\n",
        "```\n",
        "[a, b, c, a, b]\n",
        "[a, b, c, a, b, c, a]\n",
        "```"
      ],
      "metadata": {
        "id": "U2Ai7rVDOLBw"
      }
    },
    {
      "cell_type": "code",
      "source": [
        "class Circle:\n",
        "    def __init__(self, sequence, number):\n",
        "        self.sequence = sequence\n",
        "        self.number = number\n",
        "        \n",
        "    def __iter__(self):\n",
        "        return CircleIterator(self)\n",
        "    \n",
        "class CircleIterator:\n",
        "    def __init__(self, circle):\n",
        "        self.circle = circle\n",
        "        self.index = 0\n",
        "        \n",
        "    def __iter__(self):\n",
        "        return self\n",
        "    \n",
        "    def __next__(self):\n",
        "        if self.index >= self.circle.number:\n",
        "            raise StopIteration\n",
        "        item = self.circle.sequence[self.index % len(self.circle.sequence)]\n",
        "        self.index += 1\n",
        "        return item\n",
        "\n",
        "c = Circle('abc', 5)\n",
        "d = Circle('abc', 7)\n",
        "print(list(c))\n",
        "print(list(d))"
      ],
      "metadata": {
        "id": "iwcTy1HyO5hs",
        "colab": {
          "base_uri": "https://localhost:8080/"
        },
        "outputId": "2d416592-0de5-48e1-a1b6-c6fef83b38c2"
      },
      "execution_count": 65,
      "outputs": [
        {
          "output_type": "stream",
          "name": "stdout",
          "text": [
            "['a', 'b', 'c', 'a', 'b']\n",
            "['a', 'b', 'c', 'a', 'b', 'c', 'a']\n"
          ]
        }
      ]
    },
    {
      "cell_type": "code",
      "source": [
        "class Circle:\n",
        "    def __init__(self, sequence, number):\n",
        "        self.sequence = sequence\n",
        "        self.number = number\n",
        "        self.index = 0\n",
        "        \n",
        "    def __iter__(self):\n",
        "        return self\n",
        "    \n",
        "    def __next__(self):\n",
        "        if self.index >= self.number:\n",
        "            raise StopIteration\n",
        "        item = self.sequence[self.index % len(self.sequence)]\n",
        "        self.index += 1\n",
        "        return item\n",
        "\n",
        "c = Circle('abcd', 10)\n",
        "d = Circle('abc', 7)\n",
        "print(list(c))\n",
        "print(list(d))"
      ],
      "metadata": {
        "colab": {
          "base_uri": "https://localhost:8080/"
        },
        "id": "VpO3Nl14f6Ds",
        "outputId": "df967811-d392-4f07-aa57-28c0eaa6c30b"
      },
      "execution_count": 66,
      "outputs": [
        {
          "output_type": "stream",
          "name": "stdout",
          "text": [
            "['a', 'b', 'c', 'd', 'a', 'b', 'c', 'd', 'a', 'b']\n",
            "['a', 'b', 'c', 'a', 'b', 'c', 'a']\n"
          ]
        }
      ]
    },
    {
      "cell_type": "code",
      "source": [
        "list(range(1,10))"
      ],
      "metadata": {
        "colab": {
          "base_uri": "https://localhost:8080/"
        },
        "id": "Equ6JHItfbGy",
        "outputId": "8ad6f333-5b89-4a09-97dc-5f2dae18736f"
      },
      "execution_count": 67,
      "outputs": [
        {
          "output_type": "execute_result",
          "data": {
            "text/plain": [
              "[1, 2, 3, 4, 5, 6, 7, 8, 9]"
            ]
          },
          "metadata": {},
          "execution_count": 67
        }
      ]
    },
    {
      "cell_type": "markdown",
      "source": [
        "###`Q6:` Generator time elapsed\n",
        "Write a generator function whose argument must be iterable. With each iteration, the generator will return a two-element tuple. The first element in the tuple will be an integer indicating how many seconds have passed since the previous iteration. The tuple’s second element will be the next item from the passed argument.\n",
        "\n",
        "Note that the timing should be relative to the previous iteration, not when the\n",
        "generator was first created or invoked. Thus the timing number in the first iteration\n",
        "will be 0\n",
        "\n",
        "```\n",
        "for t in elapsed_since('abcd'):\n",
        "    print(t)\n",
        "    time.sleep(2)\n",
        "```\n",
        "\n",
        "Output:\n",
        "```\n",
        "(0.0, 'a')\n",
        "(2.005651817999933, 'b')\n",
        "(2.0023095009998997, 'c')\n",
        "(2.001949742000079, 'd')\n",
        "```\n",
        "Note: Your output may differ because of diffrent system has different processing configuration."
      ],
      "metadata": {
        "id": "17KyhciKQnAE"
      }
    },
    {
      "cell_type": "code",
      "source": [
        "#Write yor code\n",
        "import time\n",
        "\n",
        "def elapsed_since(iterable):\n",
        "    start = time.time()\n",
        "    for item in iterable:\n",
        "        elapsed = time.time() - start\n",
        "        start = time.time()\n",
        "        yield (elapsed, item)"
      ],
      "metadata": {
        "id": "UkH1tj9zQ-gc"
      },
      "execution_count": 68,
      "outputs": []
    },
    {
      "cell_type": "code",
      "source": [
        "import time\n",
        "\n",
        "def elapsed_since(iterable):\n",
        "    previous_time = time.time()\n",
        "    iterator = iter(iterable)\n",
        "    while True:\n",
        "        try:\n",
        "            item = next(iterator)\n",
        "        except StopIteration:\n",
        "            break\n",
        "        current_time = time.time()\n",
        "        elapsed = current_time - previous_time\n",
        "        previous_time = current_time\n",
        "        yield (elapsed, item)"
      ],
      "metadata": {
        "id": "dYQiYb58mfKS"
      },
      "execution_count": 69,
      "outputs": []
    },
    {
      "cell_type": "code",
      "source": [
        "for t in elapsed_since('abcd'):\n",
        "    print(t)\n",
        "    time.sleep(2)"
      ],
      "metadata": {
        "colab": {
          "base_uri": "https://localhost:8080/"
        },
        "id": "i0X6JreBRlYG",
        "outputId": "231643af-c050-4ae4-aede-ccb1c53188b9"
      },
      "execution_count": 70,
      "outputs": [
        {
          "output_type": "stream",
          "name": "stdout",
          "text": [
            "(1.9073486328125e-06, 'a')\n",
            "(2.0046801567077637, 'b')\n",
            "(2.0030837059020996, 'c')\n",
            "(2.0016205310821533, 'd')\n"
          ]
        }
      ]
    },
    {
      "cell_type": "markdown",
      "source": [
        "## Decorators"
      ],
      "metadata": {
        "id": "fXr3OJxJSC1j"
      }
    },
    {
      "cell_type": "markdown",
      "source": [
        "###`Q7:` Write a Python program to make a chain of function decorators (bold, italic, underline etc.) on a given function which prints \"hello world\"\n",
        "\n",
        "```\n",
        "def hello():\n",
        "    return \"hello world\"\n",
        "```\n",
        "\n",
        "```\n",
        "bold - wrap string with <b> tag. <b>Str</b>\n",
        "italic - wrap string with <i> tag. <i>Str</i>\n",
        "underline- wrap string with <u> tag. <u>Str</u>\n",
        "```"
      ],
      "metadata": {
        "id": "xSjvwAt-SFhi"
      }
    },
    {
      "cell_type": "code",
      "source": [
        "#Write your code here"
      ],
      "metadata": {
        "id": "prVeZGYlSorr"
      },
      "execution_count": 71,
      "outputs": []
    },
    {
      "cell_type": "code",
      "source": [
        "def bold(func):\n",
        "    def wrapper(*args, **kwargs):\n",
        "        return \"<b>\" + func(*args, **kwargs) + \"</b>\"\n",
        "    return wrapper\n",
        "\n",
        "def italic(func):\n",
        "    def wrapper(*args, **kwargs):\n",
        "        return \"<i>\" + func(*args, **kwargs) + \"</i>\"\n",
        "    return wrapper\n",
        "\n",
        "def underline(func):\n",
        "    def wrapper(*args, **kwargs):\n",
        "        return \"<u>\" + func(*args, **kwargs) + \"</u>\"\n",
        "    return wrapper\n",
        "\n",
        "@bold\n",
        "def print_hello_world():\n",
        "    return \"hello world\"\n",
        "\n",
        "print(print_hello_world())"
      ],
      "metadata": {
        "colab": {
          "base_uri": "https://localhost:8080/"
        },
        "id": "50wGH6zmSEv4",
        "outputId": "0ff420a4-8616-4289-9191-2771ca84fc5f"
      },
      "execution_count": 72,
      "outputs": [
        {
          "output_type": "stream",
          "name": "stdout",
          "text": [
            "<b>hello world</b>\n"
          ]
        }
      ]
    },
    {
      "cell_type": "markdown",
      "source": [
        "<b>hello world</b>"
      ],
      "metadata": {
        "id": "nAaWb_ogn_-k"
      }
    },
    {
      "cell_type": "code",
      "source": [
        "def bold(func):\n",
        "    def wrapper():\n",
        "        return \"<b>\" + func() + \"</b>\"\n",
        "    return wrapper\n",
        "\n",
        "def italic(func):\n",
        "    def wrapper():\n",
        "        return \"<i>\" + func() + \"</i>\"\n",
        "    return wrapper\n",
        "\n",
        "def underline(func):\n",
        "    def wrapper():\n",
        "        return \"<u>\" + func() + \"</u>\"\n",
        "    return wrapper\n",
        "\n",
        "@bold\n",
        "@italic\n",
        "@underline\n",
        "def hello():\n",
        "    return \"hello world\"\n",
        "\n",
        "print(hello())"
      ],
      "metadata": {
        "colab": {
          "base_uri": "https://localhost:8080/"
        },
        "id": "tEJDQYhqn06s",
        "outputId": "0b7e5bbd-b653-4791-970a-93805c659ac1"
      },
      "execution_count": 73,
      "outputs": [
        {
          "output_type": "stream",
          "name": "stdout",
          "text": [
            "<b><i><u>hello world</u></i></b>\n"
          ]
        }
      ]
    },
    {
      "cell_type": "markdown",
      "source": [
        "<b><i><u>hello world</u></i></b>"
      ],
      "metadata": {
        "id": "zReIgDKzn5cT"
      }
    },
    {
      "cell_type": "markdown",
      "source": [
        "###`Q8:` Write a decorator called `printer` which causes any decorated function to print their return values. If the return value of a given function is `None`, printer should do nothing.\n",
        "\n"
      ],
      "metadata": {
        "id": "miKBwPy4TQWa"
      }
    },
    {
      "cell_type": "code",
      "source": [
        "def printer(func):\n",
        "    def wrapper(*args, **kwargs):\n",
        "        result = func(*args, **kwargs)\n",
        "        if result is not None:\n",
        "            print(result)\n",
        "        return result\n",
        "    return wrapper\n",
        "\n",
        "@printer\n",
        "def add(a, b):\n",
        "    return a + b\n",
        "\n",
        "@printer\n",
        "def greet():\n",
        "    return \"Hello World\"\n",
        "\n",
        "print(add(1, 2)) # prints 3\n",
        "greet() # prints \"Hello World\""
      ],
      "metadata": {
        "id": "05s0poRoT9II",
        "colab": {
          "base_uri": "https://localhost:8080/",
          "height": 88
        },
        "outputId": "8091ca4d-e823-40d5-c271-ca98c99b4d55"
      },
      "execution_count": 9,
      "outputs": [
        {
          "output_type": "stream",
          "name": "stdout",
          "text": [
            "3\n",
            "3\n",
            "Hello World\n"
          ]
        },
        {
          "output_type": "execute_result",
          "data": {
            "text/plain": [
              "'Hello World'"
            ],
            "application/vnd.google.colaboratory.intrinsic+json": {
              "type": "string"
            }
          },
          "metadata": {},
          "execution_count": 9
        }
      ]
    },
    {
      "cell_type": "markdown",
      "source": [
        "###`Q9:` Make a decorator which calls a given function twice. You can assume the functions don't return anything important, but they may take arguments.\n",
        "```\n",
        "#Lets say given function \n",
        "def hello(string):\n",
        "    print(string)\n",
        "\n",
        "#on calling after specified decorator is inplaced\n",
        "hello('hello')\n",
        "```\n",
        "\n",
        "Output:\n",
        "```\n",
        "hello\n",
        "hello\n",
        "```"
      ],
      "metadata": {
        "id": "DWJLjPOnURua"
      }
    },
    {
      "cell_type": "code",
      "source": [
        "#Write your cod here\n",
        "def double_call(func):\n",
        "    def wrapper(s):\n",
        "        func(s)\n",
        "        func(s)\n",
        "    return wrapper\n",
        "\n",
        "@double_call\n",
        "def hello(s):\n",
        "    print(s)\n",
        "\n",
        "hello(\"Biju\")"
      ],
      "metadata": {
        "id": "e38y0cz7UTdD",
        "colab": {
          "base_uri": "https://localhost:8080/"
        },
        "outputId": "afc4e98e-1b9a-49f0-cc9e-059e964f1fc5"
      },
      "execution_count": 14,
      "outputs": [
        {
          "output_type": "stream",
          "name": "stdout",
          "text": [
            "Biju\n",
            "Biju\n"
          ]
        }
      ]
    },
    {
      "cell_type": "code",
      "source": [],
      "metadata": {
        "id": "6uLp_cHcUVXR"
      },
      "execution_count": 75,
      "outputs": []
    },
    {
      "cell_type": "code",
      "source": [],
      "metadata": {
        "id": "wgkWUsJhUnQx"
      },
      "execution_count": 75,
      "outputs": []
    },
    {
      "cell_type": "markdown",
      "source": [
        "### `Q10:` Write a decorator which doubles the return value of any function. And test that decoratos is working correctly or not using `asert`.\n",
        "\n",
        "```\n",
        "add(2,3) -> result in 10. Without decorator it should be 5.\n",
        "```"
      ],
      "metadata": {
        "id": "8btcQI9pWi2w"
      }
    },
    {
      "cell_type": "code",
      "source": [
        "# Write your code here\n",
        "def double_return(func):\n",
        "    def wrapper(*args, **kwargs):\n",
        "        return 2 * func(*args, **kwargs)\n",
        "    return wrapper\n",
        "\n",
        "@double_return\n",
        "def add(a, b):\n",
        "    return a + b\n",
        "\n",
        "assert add(2,3) == 10"
      ],
      "metadata": {
        "id": "nG6S_zQ9XFb3"
      },
      "execution_count": 17,
      "outputs": []
    }
  ]
}