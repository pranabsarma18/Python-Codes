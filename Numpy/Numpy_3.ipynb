{
  "nbformat": 4,
  "nbformat_minor": 0,
  "metadata": {
    "colab": {
      "provenance": [],
      "include_colab_link": true
    },
    "kernelspec": {
      "name": "python3",
      "display_name": "Python 3"
    },
    "language_info": {
      "name": "python"
    }
  },
  "cells": [
    {
      "cell_type": "markdown",
      "metadata": {
        "id": "view-in-github",
        "colab_type": "text"
      },
      "source": [
        "<a href=\"https://colab.research.google.com/github/pranabsarma18/Python-Codes/blob/main/Numpy/Numpy_3.ipynb\" target=\"_parent\"><img src=\"https://colab.research.google.com/assets/colab-badge.svg\" alt=\"Open In Colab\"/></a>"
      ]
    },
    {
      "cell_type": "code",
      "source": [
        "import numpy as np\n",
        "import matplotlib.pyplot as plt"
      ],
      "metadata": {
        "id": "wm2c01IqrJIi"
      },
      "execution_count": 201,
      "outputs": []
    },
    {
      "cell_type": "markdown",
      "source": [
        "###`Q-1:` Create a random 3x4 matrix with value between 0-100. And perform below tasks\n",
        "\n",
        "    i. Sort this matrix. np.sort()\n",
        "    ii. Sort this matrix based on values in 2nd column.\n",
        "    iii. Sort this matrix based on max value in each row.\n",
        "    iv. Sort based on elements value.\n"
      ],
      "metadata": {
        "id": "J88qfqQEk_sT"
      }
    },
    {
      "cell_type": "markdown",
      "source": [
        "See examples:\n",
        "```\n",
        "arr = \n",
        "    [[92 90 74]\n",
        "    [ 6 63 93]\n",
        "    [15 93 96]\n",
        "    [70 60 48]]\n",
        "```\n",
        "```\n",
        "i. np.sort\n",
        "[[74 90 92]\n",
        " [ 6 63 93]\n",
        " [15 93 96]\n",
        " [48 60 70]]\n",
        "\n",
        "ii. based on 2nd column\n",
        "[[70 60 48]\n",
        " [ 6 63 93]\n",
        " [92 90 74]\n",
        " [15 93 96]]\n",
        "\n",
        "iii. based on row max- ascending\n",
        "[[15 93 96]\n",
        " [ 6 63 93]\n",
        " [92 90 74]\n",
        " [70 60 48]]\n",
        "\n",
        "iv. based on elements value\n",
        "[[ 6 15 48]\n",
        " [60 63 70]\n",
        " [74 90 92]\n",
        " [93 93 96]]\n",
        "\n",
        "```"
      ],
      "metadata": {
        "id": "xpOwOdhqlE9R"
      }
    },
    {
      "cell_type": "code",
      "source": [
        "# code here\n",
        "# i. np.sort\n",
        "\n",
        "arr = np.array([[92, 90, 74],\n",
        "               [ 6, 63, 93],\n",
        "               [15, 93, 96],\n",
        "               [70, 60, 48]])\n",
        "arr"
      ],
      "metadata": {
        "id": "Auy-guUwlALv",
        "colab": {
          "base_uri": "https://localhost:8080/"
        },
        "outputId": "607e32f1-2629-4411-94f0-451f06229798"
      },
      "execution_count": 202,
      "outputs": [
        {
          "output_type": "execute_result",
          "data": {
            "text/plain": [
              "array([[92, 90, 74],\n",
              "       [ 6, 63, 93],\n",
              "       [15, 93, 96],\n",
              "       [70, 60, 48]])"
            ]
          },
          "metadata": {},
          "execution_count": 202
        }
      ]
    },
    {
      "cell_type": "code",
      "source": [
        "np.sort(arr)"
      ],
      "metadata": {
        "colab": {
          "base_uri": "https://localhost:8080/"
        },
        "id": "twGFiPpmN1s4",
        "outputId": "04b5e994-1f16-4b2d-9454-1979c6e786a9"
      },
      "execution_count": 203,
      "outputs": [
        {
          "output_type": "execute_result",
          "data": {
            "text/plain": [
              "array([[74, 90, 92],\n",
              "       [ 6, 63, 93],\n",
              "       [15, 93, 96],\n",
              "       [48, 60, 70]])"
            ]
          },
          "metadata": {},
          "execution_count": 203
        }
      ]
    },
    {
      "cell_type": "code",
      "source": [
        "# ii. based on 2nd column\n",
        "arr = np.array([[92, 90, 74],\n",
        "               [ 6, 63, 93],\n",
        "               [15, 93, 96],\n",
        "               [70, 60, 48]])\n",
        "arr"
      ],
      "metadata": {
        "colab": {
          "base_uri": "https://localhost:8080/"
        },
        "id": "EGdSAVijTGa6",
        "outputId": "a3ebe20c-92fc-4755-9661-57563aa5f258"
      },
      "execution_count": 204,
      "outputs": [
        {
          "output_type": "execute_result",
          "data": {
            "text/plain": [
              "array([[92, 90, 74],\n",
              "       [ 6, 63, 93],\n",
              "       [15, 93, 96],\n",
              "       [70, 60, 48]])"
            ]
          },
          "metadata": {},
          "execution_count": 204
        }
      ]
    },
    {
      "cell_type": "code",
      "source": [
        "sorted_arr = arr[np.argsort(arr[:, 1])]\n",
        "sorted_arr"
      ],
      "metadata": {
        "colab": {
          "base_uri": "https://localhost:8080/"
        },
        "id": "HjFjoUBHN2KH",
        "outputId": "c0695a16-d0d9-4c87-c512-ca1ca3eb2adc"
      },
      "execution_count": 205,
      "outputs": [
        {
          "output_type": "execute_result",
          "data": {
            "text/plain": [
              "array([[70, 60, 48],\n",
              "       [ 6, 63, 93],\n",
              "       [92, 90, 74],\n",
              "       [15, 93, 96]])"
            ]
          },
          "metadata": {},
          "execution_count": 205
        }
      ]
    },
    {
      "cell_type": "code",
      "source": [
        "# iii. based on row max- ascending\n",
        "# [[15 93 96]\n",
        "#  [ 6 63 93]\n",
        "#  [92 90 74]\n",
        "#  [70 60 48]]\n",
        "\n",
        "arr = np.array([[92, 90, 74],\n",
        "               [ 6, 63, 93],\n",
        "               [15, 93, 96],\n",
        "               [70, 60, 48]])\n",
        "arr"
      ],
      "metadata": {
        "colab": {
          "base_uri": "https://localhost:8080/"
        },
        "id": "YUKX2fYzTpu5",
        "outputId": "9977e025-f143-4c1b-f863-3b80826cd710"
      },
      "execution_count": 206,
      "outputs": [
        {
          "output_type": "execute_result",
          "data": {
            "text/plain": [
              "array([[92, 90, 74],\n",
              "       [ 6, 63, 93],\n",
              "       [15, 93, 96],\n",
              "       [70, 60, 48]])"
            ]
          },
          "metadata": {},
          "execution_count": 206
        }
      ]
    },
    {
      "cell_type": "code",
      "source": [
        "a = np.array([7, 4, 5, 1])\n",
        "np.argsort(a)[::-1]"
      ],
      "metadata": {
        "colab": {
          "base_uri": "https://localhost:8080/"
        },
        "id": "8beORmRnhiqn",
        "outputId": "377e824b-0f51-4d46-82c9-df466344b62b"
      },
      "execution_count": 207,
      "outputs": [
        {
          "output_type": "execute_result",
          "data": {
            "text/plain": [
              "array([0, 2, 1, 3])"
            ]
          },
          "metadata": {},
          "execution_count": 207
        }
      ]
    },
    {
      "cell_type": "code",
      "source": [
        "sorted_indices = np.argsort(np.amax(arr, axis=1))[::-1]\n",
        "sorted_arr = arr[sorted_indices]\n",
        "print(sorted_arr)"
      ],
      "metadata": {
        "colab": {
          "base_uri": "https://localhost:8080/"
        },
        "id": "7DJFH0A5WqCR",
        "outputId": "89aacbb5-82b6-4b06-b67d-84a74b6a7dd3"
      },
      "execution_count": 208,
      "outputs": [
        {
          "output_type": "stream",
          "name": "stdout",
          "text": [
            "[[15 93 96]\n",
            " [ 6 63 93]\n",
            " [92 90 74]\n",
            " [70 60 48]]\n"
          ]
        }
      ]
    },
    {
      "cell_type": "code",
      "source": [
        "# iv. based on elements value\n",
        "# [[ 6 15 48]\n",
        "#  [60 63 70]\n",
        "#  [74 90 92]\n",
        "#  [93 93 96]]"
      ],
      "metadata": {
        "id": "uE1DgRYDiEUa"
      },
      "execution_count": 209,
      "outputs": []
    },
    {
      "cell_type": "code",
      "source": [
        "arr = np.array([[92, 90, 74],\n",
        "               [ 6, 63, 93],\n",
        "               [15, 93, 96],\n",
        "               [70, 60, 48]])\n",
        "print(arr,'\\n')\n",
        "shape = np.shape(arr)\n",
        "print(shape)"
      ],
      "metadata": {
        "colab": {
          "base_uri": "https://localhost:8080/"
        },
        "id": "VPvafDh3iImF",
        "outputId": "6f1af33c-01b1-4c61-be78-7245a3ef4dbd"
      },
      "execution_count": 210,
      "outputs": [
        {
          "output_type": "stream",
          "name": "stdout",
          "text": [
            "[[92 90 74]\n",
            " [ 6 63 93]\n",
            " [15 93 96]\n",
            " [70 60 48]] \n",
            "\n",
            "(4, 3)\n"
          ]
        }
      ]
    },
    {
      "cell_type": "code",
      "source": [
        "np.sort?"
      ],
      "metadata": {
        "id": "d6sTFGiWjmSE"
      },
      "execution_count": 211,
      "outputs": []
    },
    {
      "cell_type": "code",
      "source": [
        "sorted_arr = np.sort(arr, axis=None)\n",
        "sorted_arr.reshape(shape)"
      ],
      "metadata": {
        "colab": {
          "base_uri": "https://localhost:8080/"
        },
        "id": "SokTmBceiO1q",
        "outputId": "5134255c-4587-48d5-ceb2-181bf0b2c55e"
      },
      "execution_count": 212,
      "outputs": [
        {
          "output_type": "execute_result",
          "data": {
            "text/plain": [
              "array([[ 6, 15, 48],\n",
              "       [60, 63, 70],\n",
              "       [74, 90, 92],\n",
              "       [93, 93, 96]])"
            ]
          },
          "metadata": {},
          "execution_count": 212
        }
      ]
    },
    {
      "cell_type": "markdown",
      "source": [
        "###`Q-2:` There is an array of marks of 5 students in 4 subjects. Further you are asked to perform below task.\n",
        "    i. Add marks every student of an extra subject in the same array.\n",
        "    ii. Add two new students marks in respective 5 subjects.(one subject added in above task)\n",
        "    iii. Add extra column with sum of all subjects(5-subjects) marks\n",
        "    iv. Sort the array(non-ascending order) on total marks column--one added in above task. Show top 2 rows.\n",
        "\n",
        "Note: Change dimension of arrays during concatenation or appending if required."
      ],
      "metadata": {
        "id": "Jx_I3gx9lBay"
      }
    },
    {
      "cell_type": "markdown",
      "source": [
        "Given Array-\n",
        "```\n",
        "marks = [[13, 10,  9, 33],\n",
        "       [63, 46, 90, 42],\n",
        "       [39, 76, 13, 29],\n",
        "       [82,  9, 29, 78],\n",
        "       [67, 61, 59, 36]]\n",
        "\n",
        "extra_subject = [41, 87, 72, 36, 92]\n",
        "#Two extra students record-\n",
        "rec1 = [77, 83, 98, 95, 89]\n",
        "rec2 = [92, 71, 52, 61, 53]\n",
        "```"
      ],
      "metadata": {
        "id": "lXF-CE6ylNIw"
      }
    },
    {
      "cell_type": "code",
      "source": [
        "# code here\n",
        "marks = np.array([[13, 10,  9, 33],\n",
        "       [63, 46, 90, 42],\n",
        "       [39, 76, 13, 29],\n",
        "       [82,  9, 29, 78],\n",
        "       [67, 61, 59, 36]])\n",
        "marks"
      ],
      "metadata": {
        "id": "7YKsWO2olMkq",
        "colab": {
          "base_uri": "https://localhost:8080/"
        },
        "outputId": "744a5766-eec7-4916-a61a-398ee28a4102"
      },
      "execution_count": 213,
      "outputs": [
        {
          "output_type": "execute_result",
          "data": {
            "text/plain": [
              "array([[13, 10,  9, 33],\n",
              "       [63, 46, 90, 42],\n",
              "       [39, 76, 13, 29],\n",
              "       [82,  9, 29, 78],\n",
              "       [67, 61, 59, 36]])"
            ]
          },
          "metadata": {},
          "execution_count": 213
        }
      ]
    },
    {
      "cell_type": "code",
      "source": [
        "# i. Add marks every student of an extra subject in the same array.\n",
        "extra_subject = np.array([41, 87, 72, 36, 92]).reshape(-1, 1)\n",
        "marks = np.append(marks, extra_subject, axis=1)\n",
        "marks"
      ],
      "metadata": {
        "colab": {
          "base_uri": "https://localhost:8080/"
        },
        "id": "zRElGQldmAM6",
        "outputId": "2092751c-bbf8-4dc3-dd44-20f49ea55c1c"
      },
      "execution_count": 214,
      "outputs": [
        {
          "output_type": "execute_result",
          "data": {
            "text/plain": [
              "array([[13, 10,  9, 33, 41],\n",
              "       [63, 46, 90, 42, 87],\n",
              "       [39, 76, 13, 29, 72],\n",
              "       [82,  9, 29, 78, 36],\n",
              "       [67, 61, 59, 36, 92]])"
            ]
          },
          "metadata": {},
          "execution_count": 214
        }
      ]
    },
    {
      "cell_type": "code",
      "source": [
        "# ii. Add two new students marks in respective 5 subjects.(one subject added in above task)\n",
        "\n",
        "# Two extra students record-\n",
        "# rec1 = [77, 83, 98, 95, 89]\n",
        "# rec2 = [92, 71, 52, 61, 53]\n",
        "rec1 = np.array([77, 83, 98, 95, 89]).reshape(1, -1)\n",
        "rec2 = np.array([92, 71, 52, 61, 53]).reshape(1, -1)\n",
        "marks = np.concatenate((marks, rec1, rec2), axis=0)\n",
        "marks"
      ],
      "metadata": {
        "colab": {
          "base_uri": "https://localhost:8080/"
        },
        "id": "_RcawbV6m98C",
        "outputId": "89396595-7746-46eb-da57-b99ef8f289c6"
      },
      "execution_count": 215,
      "outputs": [
        {
          "output_type": "execute_result",
          "data": {
            "text/plain": [
              "array([[13, 10,  9, 33, 41],\n",
              "       [63, 46, 90, 42, 87],\n",
              "       [39, 76, 13, 29, 72],\n",
              "       [82,  9, 29, 78, 36],\n",
              "       [67, 61, 59, 36, 92],\n",
              "       [77, 83, 98, 95, 89],\n",
              "       [92, 71, 52, 61, 53]])"
            ]
          },
          "metadata": {},
          "execution_count": 215
        }
      ]
    },
    {
      "cell_type": "code",
      "source": [
        "# iii. Add extra column with sum of all subjects(5-subjects) marks\n",
        "sum_all_subjects = np.sum(marks, axis=1).reshape(-1, 1)\n",
        "marks = np.concatenate((marks, sum_all_subjects), axis=1)\n",
        "marks"
      ],
      "metadata": {
        "colab": {
          "base_uri": "https://localhost:8080/"
        },
        "id": "nMeWw-gNnZQj",
        "outputId": "a455bdb3-32ed-4328-d744-58a65463fa8b"
      },
      "execution_count": 216,
      "outputs": [
        {
          "output_type": "execute_result",
          "data": {
            "text/plain": [
              "array([[ 13,  10,   9,  33,  41, 106],\n",
              "       [ 63,  46,  90,  42,  87, 328],\n",
              "       [ 39,  76,  13,  29,  72, 229],\n",
              "       [ 82,   9,  29,  78,  36, 234],\n",
              "       [ 67,  61,  59,  36,  92, 315],\n",
              "       [ 77,  83,  98,  95,  89, 442],\n",
              "       [ 92,  71,  52,  61,  53, 329]])"
            ]
          },
          "metadata": {},
          "execution_count": 216
        }
      ]
    },
    {
      "cell_type": "code",
      "source": [
        "# iv. Sort the array(non-ascending order) on total marks column--one added in above task. Show top 2 rows.\n",
        "sorted_student_index = np.argsort(marks[:,-1])[::-1]\n",
        "sorted_students = marks[sorted_student_index]\n",
        "sorted_students[:2,:]"
      ],
      "metadata": {
        "colab": {
          "base_uri": "https://localhost:8080/"
        },
        "id": "RkSPprf1qLfu",
        "outputId": "d1a255b6-9a4f-4ab3-8de1-1ccc02fea7e4"
      },
      "execution_count": 217,
      "outputs": [
        {
          "output_type": "execute_result",
          "data": {
            "text/plain": [
              "array([[ 77,  83,  98,  95,  89, 442],\n",
              "       [ 92,  71,  52,  61,  53, 329]])"
            ]
          },
          "metadata": {},
          "execution_count": 217
        }
      ]
    },
    {
      "cell_type": "markdown",
      "source": [
        "###`Q-3:` Find unique arrays from a 2D array column wise and row wise.\n",
        "```\n",
        "arr = np.array([[1,2,3,3,1,1],\n",
        "                [0,9,1,2,8,8],\n",
        "                [1,2,3,8,8,8],\n",
        "                [1,2,3,3,1,1]])\n",
        "```\n",
        "Expected Result-\n",
        "```\n",
        "Row Wise\n",
        "[[0 9 1 2 8 8]\n",
        " [1 2 3 3 1 1]\n",
        " [1 2 3 8 8 8]]\n",
        "\n",
        "Col Wise\n",
        "[[1 1 2 3 3]\n",
        " [0 8 9 1 2]\n",
        " [1 8 2 3 8]\n",
        " [1 1 2 3 3]]\n",
        "```"
      ],
      "metadata": {
        "id": "VmOyK_8klRqR"
      }
    },
    {
      "cell_type": "code",
      "source": [
        "# code here\n",
        "arr = np.array([[1,2,3,3,1,1],\n",
        "                [0,9,1,2,8,8],\n",
        "                [1,2,3,8,8,8],\n",
        "                [1,2,3,3,1,1]])"
      ],
      "metadata": {
        "id": "LJl10VQrlU5q"
      },
      "execution_count": 218,
      "outputs": []
    },
    {
      "cell_type": "code",
      "source": [
        "# Row Wise\n",
        "np.unique(arr, axis=0)"
      ],
      "metadata": {
        "colab": {
          "base_uri": "https://localhost:8080/"
        },
        "id": "5k8U6jK5CemO",
        "outputId": "c66d8fcf-c10f-481c-b7b9-ac10fde111cf"
      },
      "execution_count": 219,
      "outputs": [
        {
          "output_type": "execute_result",
          "data": {
            "text/plain": [
              "array([[0, 9, 1, 2, 8, 8],\n",
              "       [1, 2, 3, 3, 1, 1],\n",
              "       [1, 2, 3, 8, 8, 8]])"
            ]
          },
          "metadata": {},
          "execution_count": 219
        }
      ]
    },
    {
      "cell_type": "code",
      "source": [
        "# Col Wise\n",
        "np.unique(arr, axis=1)"
      ],
      "metadata": {
        "colab": {
          "base_uri": "https://localhost:8080/"
        },
        "id": "tndSWzRNCrnm",
        "outputId": "c8d66335-223e-4a69-f591-96ab8cf096be"
      },
      "execution_count": 220,
      "outputs": [
        {
          "output_type": "execute_result",
          "data": {
            "text/plain": [
              "array([[1, 1, 2, 3, 3],\n",
              "       [0, 8, 9, 1, 2],\n",
              "       [1, 8, 2, 3, 8],\n",
              "       [1, 1, 2, 3, 3]])"
            ]
          },
          "metadata": {},
          "execution_count": 220
        }
      ]
    },
    {
      "cell_type": "markdown",
      "source": [
        "###`Q-4:` Flip given 2-D array along both axes at the same time."
      ],
      "metadata": {
        "id": "RaXwVkywlWY2"
      }
    },
    {
      "cell_type": "code",
      "source": [
        "# code here\n",
        "import numpy as np\n",
        "a = np.array([[5, 3, 8], [1, 9, 2], [7, 4, 6]])\n",
        "print(a)\n",
        "print()\n",
        "flipped_a = np.flip(a)\n",
        "print(flipped_a)"
      ],
      "metadata": {
        "id": "mN7-4G8Kleeq",
        "colab": {
          "base_uri": "https://localhost:8080/"
        },
        "outputId": "16bfd2b6-ff4c-42e7-f66e-357441d3d630"
      },
      "execution_count": 221,
      "outputs": [
        {
          "output_type": "stream",
          "name": "stdout",
          "text": [
            "[[5 3 8]\n",
            " [1 9 2]\n",
            " [7 4 6]]\n",
            "\n",
            "[[6 4 7]\n",
            " [2 9 1]\n",
            " [8 3 5]]\n"
          ]
        }
      ]
    },
    {
      "cell_type": "code",
      "source": [
        "np.flip?"
      ],
      "metadata": {
        "id": "qosHjmDbDS9k"
      },
      "execution_count": 222,
      "outputs": []
    },
    {
      "cell_type": "markdown",
      "source": [
        "### `Q-5:` Get row numbers of NumPy array having element larger than X.\n",
        "```\n",
        "arr = [[1,2,3,4,5], \n",
        "      [10,-3,30,4,5], \n",
        "      [3,2,5,-4,5], \n",
        "      [9,7,3,6,5]] \n",
        "\n",
        "X = 6\n",
        "```"
      ],
      "metadata": {
        "id": "X0S7BUNTlfoq"
      }
    },
    {
      "cell_type": "code",
      "source": [
        "# code here\n",
        "arr = np.array([[1,2,3,4,5], \n",
        "      [10,-3,30,4,5], \n",
        "      [3,2,5,-4,5], \n",
        "      [9,7,3,6,5]])\n",
        "\n",
        "x = 6\n",
        "arr1 = np.where(arr>6)[0]\n",
        "np.unique(arr1)"
      ],
      "metadata": {
        "id": "bi8jRmWhlkBU",
        "colab": {
          "base_uri": "https://localhost:8080/"
        },
        "outputId": "896b03ec-1b91-4738-9836-cb6eead1a284"
      },
      "execution_count": 223,
      "outputs": [
        {
          "output_type": "execute_result",
          "data": {
            "text/plain": [
              "array([1, 3])"
            ]
          },
          "metadata": {},
          "execution_count": 223
        }
      ]
    },
    {
      "cell_type": "code",
      "source": [
        "np.argwhere?"
      ],
      "metadata": {
        "id": "Iasy4WJpK5yM"
      },
      "execution_count": 224,
      "outputs": []
    },
    {
      "cell_type": "markdown",
      "source": [
        "### `Q-6:` How to convert an array of arrays into a flat 1d array?\n"
      ],
      "metadata": {
        "id": "DSCQMo4mlnDG"
      }
    },
    {
      "cell_type": "code",
      "source": [
        "# These arrays are given.\n",
        "arr1 = np.arange(3)\n",
        "arr2 = np.arange(3,7)\n",
        "arr3 = np.arange(7,10)"
      ],
      "metadata": {
        "id": "QZhSkUT2lsJW"
      },
      "execution_count": 225,
      "outputs": []
    },
    {
      "cell_type": "code",
      "source": [
        "# code here\n",
        "flat_arr = np.concatenate((arr1, arr2, arr3),axis = 0)\n",
        "print(flat_arr)"
      ],
      "metadata": {
        "id": "f42OXNrFls0I",
        "colab": {
          "base_uri": "https://localhost:8080/"
        },
        "outputId": "ec37f1d8-928c-4891-bc80-34d52f052d6c"
      },
      "execution_count": 226,
      "outputs": [
        {
          "output_type": "stream",
          "name": "stdout",
          "text": [
            "[0 1 2 3 4 5 6 7 8 9]\n"
          ]
        }
      ]
    },
    {
      "cell_type": "code",
      "source": [
        "flat_arr1 = np.hstack((arr1, arr2, arr3))\n",
        "flat_arr1"
      ],
      "metadata": {
        "colab": {
          "base_uri": "https://localhost:8080/"
        },
        "id": "ALbKnvFQRBY7",
        "outputId": "b97efc4e-5609-436f-f571-67c10093c30f"
      },
      "execution_count": 227,
      "outputs": [
        {
          "output_type": "execute_result",
          "data": {
            "text/plain": [
              "array([0, 1, 2, 3, 4, 5, 6, 7, 8, 9])"
            ]
          },
          "metadata": {},
          "execution_count": 227
        }
      ]
    },
    {
      "cell_type": "markdown",
      "source": [
        "### `Q-7:` You are given a array. You have to find the minimum and maximum array element and remove that from the array.\n",
        "\n",
        "```python\n",
        "import numpy as np\n",
        "\n",
        "np.random.seed(400)\n",
        "arr = np.random.randint(100, 1000, 200).reshape((1, 200))\n",
        "```"
      ],
      "metadata": {
        "id": "A1J4oOVCluqO"
      }
    },
    {
      "cell_type": "code",
      "source": [
        "# code here\n",
        "np.random.seed(400)\n",
        "arr = np.random.randint(100, 1000, 200).reshape((1, 200))\n",
        "arr.shape"
      ],
      "metadata": {
        "id": "c6kmgtUJlybZ",
        "colab": {
          "base_uri": "https://localhost:8080/"
        },
        "outputId": "402d3779-ebf9-4c98-934b-56ce481126db"
      },
      "execution_count": 262,
      "outputs": [
        {
          "output_type": "execute_result",
          "data": {
            "text/plain": [
              "(1, 200)"
            ]
          },
          "metadata": {},
          "execution_count": 262
        }
      ]
    },
    {
      "cell_type": "code",
      "source": [
        "sum((arr[0] == np.amax(arr[0])) | (arr[0] == np.amin(arr[0])))"
      ],
      "metadata": {
        "colab": {
          "base_uri": "https://localhost:8080/"
        },
        "id": "lbCzLF6yT4uW",
        "outputId": "9e77d45f-cbf1-4412-901d-b2fef761526c"
      },
      "execution_count": 253,
      "outputs": [
        {
          "output_type": "execute_result",
          "data": {
            "text/plain": [
              "2"
            ]
          },
          "metadata": {},
          "execution_count": 253
        }
      ]
    },
    {
      "cell_type": "code",
      "source": [
        "min_index = np.argmin(arr)\n",
        "max_index = np.argmax(arr)\n",
        "arr = np.delete(arr, [min_index, max_index])\n",
        "arr.shape"
      ],
      "metadata": {
        "colab": {
          "base_uri": "https://localhost:8080/"
        },
        "id": "hKWPq2uYRXvV",
        "outputId": "b8d627db-f8b9-4e1d-a6ca-d7d4e06a9e75"
      },
      "execution_count": 254,
      "outputs": [
        {
          "output_type": "execute_result",
          "data": {
            "text/plain": [
              "(198,)"
            ]
          },
          "metadata": {},
          "execution_count": 254
        }
      ]
    },
    {
      "cell_type": "code",
      "source": [
        "#My alternate\n",
        "np.random.seed(400)\n",
        "arr = np.random.randint(100, 1000, 200).reshape((1, 200))\n",
        "arr.shape"
      ],
      "metadata": {
        "colab": {
          "base_uri": "https://localhost:8080/"
        },
        "id": "tytocIkOV1b6",
        "outputId": "19767114-741a-4b47-8d13-12842fe4f9c8"
      },
      "execution_count": 265,
      "outputs": [
        {
          "output_type": "execute_result",
          "data": {
            "text/plain": [
              "(1, 200)"
            ]
          },
          "metadata": {},
          "execution_count": 265
        }
      ]
    },
    {
      "cell_type": "code",
      "source": [
        "np.where((arr[0]==998) | (arr[0]==103))"
      ],
      "metadata": {
        "colab": {
          "base_uri": "https://localhost:8080/"
        },
        "id": "_oQXBFE_WIcM",
        "outputId": "a6ba854e-a5ce-45ae-c5ba-44eddce08858"
      },
      "execution_count": 266,
      "outputs": [
        {
          "output_type": "execute_result",
          "data": {
            "text/plain": [
              "(array([ 66, 102]),)"
            ]
          },
          "metadata": {},
          "execution_count": 266
        }
      ]
    },
    {
      "cell_type": "code",
      "source": [
        "arr = np.delete(arr[0], np.where((arr[0]==998) | (arr[0]==103))[0])"
      ],
      "metadata": {
        "id": "Wtoke2w8RviQ"
      },
      "execution_count": 267,
      "outputs": []
    },
    {
      "cell_type": "code",
      "source": [
        "arr.shape"
      ],
      "metadata": {
        "colab": {
          "base_uri": "https://localhost:8080/"
        },
        "id": "QYoEzXWySy_e",
        "outputId": "9380663d-428d-4165-8f80-e0d5b1c1cd3f"
      },
      "execution_count": 268,
      "outputs": [
        {
          "output_type": "execute_result",
          "data": {
            "text/plain": [
              "(198,)"
            ]
          },
          "metadata": {},
          "execution_count": 268
        }
      ]
    },
    {
      "cell_type": "markdown",
      "source": [
        "### `Q-8:` You are given an arrays. You have to limit this array's elements between 100 to 200. $arr ∈ [100, 700]$. So replace those values accordingly with the minimum and maximum value. Then sort the array and perform the cumulative sum of that array."
      ],
      "metadata": {
        "id": "0dHN1sdnl0Jy"
      }
    },
    {
      "cell_type": "code",
      "source": [
        "# code here\n",
        "arr = np.random.randint(100, 700, 200)\n",
        "arr"
      ],
      "metadata": {
        "id": "a3YF_E-Hlza7",
        "colab": {
          "base_uri": "https://localhost:8080/"
        },
        "outputId": "00c9addf-1ca9-4dd8-f1bb-451e4ca8cb5b"
      },
      "execution_count": 285,
      "outputs": [
        {
          "output_type": "execute_result",
          "data": {
            "text/plain": [
              "array([553, 258, 664, 398, 203, 491, 103, 401, 213, 130, 284, 236, 681,\n",
              "       284, 258, 138, 437, 303, 226, 407, 498, 446, 604, 187, 175, 332,\n",
              "       627, 466, 228, 546, 140, 128, 385, 259, 672, 344, 503, 608, 123,\n",
              "       438, 582, 678, 338, 292, 185, 458, 198, 421, 584, 361, 334, 467,\n",
              "       435, 330, 381, 329, 618, 336, 186, 109, 288, 636, 381, 644, 573,\n",
              "       169, 402, 465, 693, 571, 460, 465, 608, 684, 546, 553, 698, 453,\n",
              "       643, 396, 626, 112, 198, 655, 401, 385, 175, 425, 597, 469, 580,\n",
              "       400, 406, 355, 259, 502, 572, 471, 103, 604, 481, 478, 645, 125,\n",
              "       390, 597, 493, 158, 403, 436, 380, 428, 286, 649, 455, 421, 568,\n",
              "       344, 573, 163, 547, 531, 403, 534, 172, 377, 413, 576, 642, 305,\n",
              "       377, 484, 682, 490, 246, 304, 321, 498, 240, 582, 276, 452, 629,\n",
              "       512, 170, 482, 371, 286, 555, 439, 690, 167, 675, 259, 169, 431,\n",
              "       632, 671, 492, 246, 310, 287, 372, 518, 499, 154, 348, 542, 246,\n",
              "       428, 575, 274, 201, 460, 544, 661, 424, 304, 183, 259, 189, 578,\n",
              "       298, 670, 305, 285, 360, 572, 471, 693, 490, 507, 169, 336, 338,\n",
              "       340, 307, 277, 258, 501])"
            ]
          },
          "metadata": {},
          "execution_count": 285
        }
      ]
    },
    {
      "cell_type": "code",
      "source": [
        "arr_cliped = np.clip(arr, a_min=100, a_max=200)\n",
        "arr_cliped"
      ],
      "metadata": {
        "colab": {
          "base_uri": "https://localhost:8080/"
        },
        "id": "wFK0F9a2Wfze",
        "outputId": "df15813c-7728-453e-c4fb-91e064eccd41"
      },
      "execution_count": 286,
      "outputs": [
        {
          "output_type": "execute_result",
          "data": {
            "text/plain": [
              "array([200, 200, 200, 200, 200, 200, 103, 200, 200, 130, 200, 200, 200,\n",
              "       200, 200, 138, 200, 200, 200, 200, 200, 200, 200, 187, 175, 200,\n",
              "       200, 200, 200, 200, 140, 128, 200, 200, 200, 200, 200, 200, 123,\n",
              "       200, 200, 200, 200, 200, 185, 200, 198, 200, 200, 200, 200, 200,\n",
              "       200, 200, 200, 200, 200, 200, 186, 109, 200, 200, 200, 200, 200,\n",
              "       169, 200, 200, 200, 200, 200, 200, 200, 200, 200, 200, 200, 200,\n",
              "       200, 200, 200, 112, 198, 200, 200, 200, 175, 200, 200, 200, 200,\n",
              "       200, 200, 200, 200, 200, 200, 200, 103, 200, 200, 200, 200, 125,\n",
              "       200, 200, 200, 158, 200, 200, 200, 200, 200, 200, 200, 200, 200,\n",
              "       200, 200, 163, 200, 200, 200, 200, 172, 200, 200, 200, 200, 200,\n",
              "       200, 200, 200, 200, 200, 200, 200, 200, 200, 200, 200, 200, 200,\n",
              "       200, 170, 200, 200, 200, 200, 200, 200, 167, 200, 200, 169, 200,\n",
              "       200, 200, 200, 200, 200, 200, 200, 200, 200, 154, 200, 200, 200,\n",
              "       200, 200, 200, 200, 200, 200, 200, 200, 200, 183, 200, 189, 200,\n",
              "       200, 200, 200, 200, 200, 200, 200, 200, 200, 200, 169, 200, 200,\n",
              "       200, 200, 200, 200, 200])"
            ]
          },
          "metadata": {},
          "execution_count": 286
        }
      ]
    },
    {
      "cell_type": "code",
      "source": [
        "sorted_arr = np.sort(arr_cliped)\n",
        "sorted_arr"
      ],
      "metadata": {
        "colab": {
          "base_uri": "https://localhost:8080/"
        },
        "id": "dMW0RiWPW4SQ",
        "outputId": "d999bb0a-ef06-42e7-f0c2-caf4edf447ae"
      },
      "execution_count": 287,
      "outputs": [
        {
          "output_type": "execute_result",
          "data": {
            "text/plain": [
              "array([103, 103, 109, 112, 123, 125, 128, 130, 138, 140, 154, 158, 163,\n",
              "       167, 169, 169, 169, 170, 172, 175, 175, 183, 185, 186, 187, 189,\n",
              "       198, 198, 200, 200, 200, 200, 200, 200, 200, 200, 200, 200, 200,\n",
              "       200, 200, 200, 200, 200, 200, 200, 200, 200, 200, 200, 200, 200,\n",
              "       200, 200, 200, 200, 200, 200, 200, 200, 200, 200, 200, 200, 200,\n",
              "       200, 200, 200, 200, 200, 200, 200, 200, 200, 200, 200, 200, 200,\n",
              "       200, 200, 200, 200, 200, 200, 200, 200, 200, 200, 200, 200, 200,\n",
              "       200, 200, 200, 200, 200, 200, 200, 200, 200, 200, 200, 200, 200,\n",
              "       200, 200, 200, 200, 200, 200, 200, 200, 200, 200, 200, 200, 200,\n",
              "       200, 200, 200, 200, 200, 200, 200, 200, 200, 200, 200, 200, 200,\n",
              "       200, 200, 200, 200, 200, 200, 200, 200, 200, 200, 200, 200, 200,\n",
              "       200, 200, 200, 200, 200, 200, 200, 200, 200, 200, 200, 200, 200,\n",
              "       200, 200, 200, 200, 200, 200, 200, 200, 200, 200, 200, 200, 200,\n",
              "       200, 200, 200, 200, 200, 200, 200, 200, 200, 200, 200, 200, 200,\n",
              "       200, 200, 200, 200, 200, 200, 200, 200, 200, 200, 200, 200, 200,\n",
              "       200, 200, 200, 200, 200])"
            ]
          },
          "metadata": {},
          "execution_count": 287
        }
      ]
    },
    {
      "cell_type": "code",
      "source": [
        "cum_sum = np.cumsum(sorted_arr)\n",
        "cum_sum"
      ],
      "metadata": {
        "colab": {
          "base_uri": "https://localhost:8080/"
        },
        "id": "ey450qaeXD5B",
        "outputId": "95f52132-611d-43fd-e416-35dff4bcae12"
      },
      "execution_count": 288,
      "outputs": [
        {
          "output_type": "execute_result",
          "data": {
            "text/plain": [
              "array([  103,   206,   315,   427,   550,   675,   803,   933,  1071,\n",
              "        1211,  1365,  1523,  1686,  1853,  2022,  2191,  2360,  2530,\n",
              "        2702,  2877,  3052,  3235,  3420,  3606,  3793,  3982,  4180,\n",
              "        4378,  4578,  4778,  4978,  5178,  5378,  5578,  5778,  5978,\n",
              "        6178,  6378,  6578,  6778,  6978,  7178,  7378,  7578,  7778,\n",
              "        7978,  8178,  8378,  8578,  8778,  8978,  9178,  9378,  9578,\n",
              "        9778,  9978, 10178, 10378, 10578, 10778, 10978, 11178, 11378,\n",
              "       11578, 11778, 11978, 12178, 12378, 12578, 12778, 12978, 13178,\n",
              "       13378, 13578, 13778, 13978, 14178, 14378, 14578, 14778, 14978,\n",
              "       15178, 15378, 15578, 15778, 15978, 16178, 16378, 16578, 16778,\n",
              "       16978, 17178, 17378, 17578, 17778, 17978, 18178, 18378, 18578,\n",
              "       18778, 18978, 19178, 19378, 19578, 19778, 19978, 20178, 20378,\n",
              "       20578, 20778, 20978, 21178, 21378, 21578, 21778, 21978, 22178,\n",
              "       22378, 22578, 22778, 22978, 23178, 23378, 23578, 23778, 23978,\n",
              "       24178, 24378, 24578, 24778, 24978, 25178, 25378, 25578, 25778,\n",
              "       25978, 26178, 26378, 26578, 26778, 26978, 27178, 27378, 27578,\n",
              "       27778, 27978, 28178, 28378, 28578, 28778, 28978, 29178, 29378,\n",
              "       29578, 29778, 29978, 30178, 30378, 30578, 30778, 30978, 31178,\n",
              "       31378, 31578, 31778, 31978, 32178, 32378, 32578, 32778, 32978,\n",
              "       33178, 33378, 33578, 33778, 33978, 34178, 34378, 34578, 34778,\n",
              "       34978, 35178, 35378, 35578, 35778, 35978, 36178, 36378, 36578,\n",
              "       36778, 36978, 37178, 37378, 37578, 37778, 37978, 38178, 38378,\n",
              "       38578, 38778])"
            ]
          },
          "metadata": {},
          "execution_count": 288
        }
      ]
    },
    {
      "cell_type": "markdown",
      "source": [
        "### `Q-9:` You are given a array ($arr ∈ [0, 1]$). First you have round off the elements upto 3 decimal places and compare that\n",
        "- 0th percentile == minimum value of the array\n",
        "- 100th percentile == maximum value of the array\n",
        "- also find the difference betwen 51th percenile and 50th percentile values"
      ],
      "metadata": {
        "id": "cXj90Susl4-I"
      }
    },
    {
      "cell_type": "code",
      "source": [
        "# code here\n",
        "arr = np.linspace(0, 1, 50)\n",
        "arr"
      ],
      "metadata": {
        "id": "SgBEHodgl7Lo",
        "colab": {
          "base_uri": "https://localhost:8080/"
        },
        "outputId": "5667a8a0-b138-4f52-b47a-281ebde1ec9c"
      },
      "execution_count": 289,
      "outputs": [
        {
          "output_type": "execute_result",
          "data": {
            "text/plain": [
              "array([0.        , 0.02040816, 0.04081633, 0.06122449, 0.08163265,\n",
              "       0.10204082, 0.12244898, 0.14285714, 0.16326531, 0.18367347,\n",
              "       0.20408163, 0.2244898 , 0.24489796, 0.26530612, 0.28571429,\n",
              "       0.30612245, 0.32653061, 0.34693878, 0.36734694, 0.3877551 ,\n",
              "       0.40816327, 0.42857143, 0.44897959, 0.46938776, 0.48979592,\n",
              "       0.51020408, 0.53061224, 0.55102041, 0.57142857, 0.59183673,\n",
              "       0.6122449 , 0.63265306, 0.65306122, 0.67346939, 0.69387755,\n",
              "       0.71428571, 0.73469388, 0.75510204, 0.7755102 , 0.79591837,\n",
              "       0.81632653, 0.83673469, 0.85714286, 0.87755102, 0.89795918,\n",
              "       0.91836735, 0.93877551, 0.95918367, 0.97959184, 1.        ])"
            ]
          },
          "metadata": {},
          "execution_count": 289
        }
      ]
    },
    {
      "cell_type": "code",
      "source": [
        "arr = np.round(arr, 3)\n",
        "arr"
      ],
      "metadata": {
        "colab": {
          "base_uri": "https://localhost:8080/"
        },
        "id": "CkuwqH5SYeFE",
        "outputId": "d7888a67-a09a-4ab2-9121-fe1a6f1e7f0b"
      },
      "execution_count": 290,
      "outputs": [
        {
          "output_type": "execute_result",
          "data": {
            "text/plain": [
              "array([0.   , 0.02 , 0.041, 0.061, 0.082, 0.102, 0.122, 0.143, 0.163,\n",
              "       0.184, 0.204, 0.224, 0.245, 0.265, 0.286, 0.306, 0.327, 0.347,\n",
              "       0.367, 0.388, 0.408, 0.429, 0.449, 0.469, 0.49 , 0.51 , 0.531,\n",
              "       0.551, 0.571, 0.592, 0.612, 0.633, 0.653, 0.673, 0.694, 0.714,\n",
              "       0.735, 0.755, 0.776, 0.796, 0.816, 0.837, 0.857, 0.878, 0.898,\n",
              "       0.918, 0.939, 0.959, 0.98 , 1.   ])"
            ]
          },
          "metadata": {},
          "execution_count": 290
        }
      ]
    },
    {
      "cell_type": "code",
      "source": [
        "min_arr = np.amin(arr)\n",
        "np.percentile(arr, 0) == min_arr"
      ],
      "metadata": {
        "colab": {
          "base_uri": "https://localhost:8080/"
        },
        "id": "YnZU6drHYuPF",
        "outputId": "3f89b256-0d55-461f-d3f5-21276d7f58bc"
      },
      "execution_count": 291,
      "outputs": [
        {
          "output_type": "execute_result",
          "data": {
            "text/plain": [
              "True"
            ]
          },
          "metadata": {},
          "execution_count": 291
        }
      ]
    },
    {
      "cell_type": "code",
      "source": [
        "max_arr = np.amax(arr)\n",
        "np.percentile(arr, 100) == max_arr"
      ],
      "metadata": {
        "colab": {
          "base_uri": "https://localhost:8080/"
        },
        "id": "pJ6kb8tPY5Uu",
        "outputId": "11f61b0e-61e7-4830-eeea-b56f192187ee"
      },
      "execution_count": 292,
      "outputs": [
        {
          "output_type": "execute_result",
          "data": {
            "text/plain": [
              "True"
            ]
          },
          "metadata": {},
          "execution_count": 292
        }
      ]
    },
    {
      "cell_type": "code",
      "source": [
        "percentile_50 = np.percentile(arr, 50)\n",
        "print(percentile_50)\n",
        "percentile_51 = np.percentile(arr, 51)\n",
        "print(percentile_51)\n",
        "print(percentile_51 - percentile_50)"
      ],
      "metadata": {
        "colab": {
          "base_uri": "https://localhost:8080/"
        },
        "id": "h4Ls31HrZBzu",
        "outputId": "8fdbe6e2-302b-4376-ef6d-d38c1169cb72"
      },
      "execution_count": 294,
      "outputs": [
        {
          "output_type": "stream",
          "name": "stdout",
          "text": [
            "0.5\n",
            "0.5098\n",
            "0.009800000000000031\n"
          ]
        }
      ]
    }
  ]
}