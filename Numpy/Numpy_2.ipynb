{
  "nbformat": 4,
  "nbformat_minor": 0,
  "metadata": {
    "colab": {
      "provenance": [],
      "include_colab_link": true
    },
    "kernelspec": {
      "name": "python3",
      "display_name": "Python 3"
    },
    "language_info": {
      "name": "python"
    }
  },
  "cells": [
    {
      "cell_type": "markdown",
      "metadata": {
        "id": "view-in-github",
        "colab_type": "text"
      },
      "source": [
        "<a href=\"https://colab.research.google.com/github/pranabsarma18/Python-Codes/blob/main/Numpy/Numpy_2.ipynb\" target=\"_parent\"><img src=\"https://colab.research.google.com/assets/colab-badge.svg\" alt=\"Open In Colab\"/></a>"
      ]
    },
    {
      "cell_type": "code",
      "source": [
        "import numpy as np"
      ],
      "metadata": {
        "id": "jqMiIBNaqie8"
      },
      "execution_count": null,
      "outputs": []
    },
    {
      "cell_type": "markdown",
      "source": [
        "###`Q-1:` Find the nearest element in the array to a given integer.\n",
        "```\n",
        "Ex:- \n",
        "a=23 and array - [10 17 24 31 38 45 52 59].\n",
        "Nearest element is 24\n",
        "```\n",
        "Hint: Read about this function `argmin()`"
      ],
      "metadata": {
        "id": "1uamk9vAix0o"
      }
    },
    {
      "cell_type": "code",
      "source": [
        "# code here\n",
        "arr = np.array([10, 17, 24, 31, 38, 45, 52, 59])\n",
        "a = 57\n",
        "distance = np.abs(arr - a)\n",
        "arr[np.argmin(distance)]"
      ],
      "metadata": {
        "id": "ddkpbpR6iySZ",
        "colab": {
          "base_uri": "https://localhost:8080/"
        },
        "outputId": "021024fc-e8fd-4d1f-e3a3-d3a443abf2db"
      },
      "execution_count": null,
      "outputs": [
        {
          "output_type": "execute_result",
          "data": {
            "text/plain": [
              "59"
            ]
          },
          "metadata": {},
          "execution_count": 7
        }
      ]
    },
    {
      "cell_type": "code",
      "source": [
        "import numpy as np\n",
        "def find_nearest(arr, a):\n",
        "    idx = (np.abs(arr - a)).argmin()\n",
        "    return arr[idx]"
      ],
      "metadata": {
        "id": "ZGnisQtRtNi-"
      },
      "execution_count": null,
      "outputs": []
    },
    {
      "cell_type": "code",
      "source": [
        "a = 23\n",
        "arr = np.array([10, 17, 24, 31, 38, 45, 52, 59])\n",
        "print(find_nearest(arr, a))"
      ],
      "metadata": {
        "colab": {
          "base_uri": "https://localhost:8080/"
        },
        "id": "xmU2DTsctPFs",
        "outputId": "ea8c76b9-732d-4dd9-e331-44affcb24e2b"
      },
      "execution_count": null,
      "outputs": [
        {
          "output_type": "stream",
          "name": "stdout",
          "text": [
            "24\n"
          ]
        }
      ]
    },
    {
      "cell_type": "markdown",
      "source": [
        "###`Q-2:` Replace multiples of 3 or 5 as 0 in the given array.\n",
        "```\n",
        "arr=[1 2 3 4 5 6 7 9]\n",
        "\n",
        "result-> [1 2 0 4 0 0 7 0]\n",
        "```"
      ],
      "metadata": {
        "id": "Y1QkHyPpizyp"
      }
    },
    {
      "cell_type": "code",
      "source": [
        "# code here\n",
        "arr = np.array([1, 2, 3, 4, 5, 6, 7, 9])"
      ],
      "metadata": {
        "id": "JjtxMlhWi25l"
      },
      "execution_count": null,
      "outputs": []
    },
    {
      "cell_type": "code",
      "source": [
        "arr[(arr % 3 == 0) | (arr % 5 ==0)] = 0\n",
        "arr"
      ],
      "metadata": {
        "colab": {
          "base_uri": "https://localhost:8080/"
        },
        "id": "dmzOIQdLzje8",
        "outputId": "c61ebc51-bfc7-4f15-cf39-270477536f51"
      },
      "execution_count": null,
      "outputs": [
        {
          "output_type": "execute_result",
          "data": {
            "text/plain": [
              "array([1, 2, 0, 4, 0, 0, 7, 0])"
            ]
          },
          "metadata": {},
          "execution_count": 22
        }
      ]
    },
    {
      "cell_type": "code",
      "source": [
        "import numpy as np\n",
        "\n",
        "def replace_multiples(arr):\n",
        "    arr = np.array(arr)\n",
        "    arr[(arr % 3 == 0) | (arr % 5 == 0)] = 0\n",
        "    return arr"
      ],
      "metadata": {
        "id": "UjhAWTjV0gE7"
      },
      "execution_count": null,
      "outputs": []
    },
    {
      "cell_type": "code",
      "source": [
        "arr = [1, 2, 3, 4, 5, 6, 7, 9]\n",
        "print(replace_multiples(arr))"
      ],
      "metadata": {
        "colab": {
          "base_uri": "https://localhost:8080/"
        },
        "id": "HhBQoyW80g6D",
        "outputId": "df85577d-f0e7-4d20-98d9-1e3fd9db7969"
      },
      "execution_count": null,
      "outputs": [
        {
          "output_type": "stream",
          "name": "stdout",
          "text": [
            "[1 2 0 4 0 0 7 0]\n"
          ]
        }
      ]
    },
    {
      "cell_type": "markdown",
      "source": [
        "###`Q-3:` Use Fancy Indexing.\n",
        "1. Double the array elements at  given indexes\n",
        "```\n",
        "arr = np.arrange(10)\n",
        "indexes = [0,3,4,9]\n",
        "```\n",
        "Result -> `[ 0  1  2  6  8  5  6  7  8 18]`\n",
        "\n",
        "2. Using a given array make a different array as in below example\n",
        "```\n",
        "array = [1,2,3]\n",
        "result array -> [1 1 1 2 2 2 3 3 3]\n",
        "```\n",
        "* Internal-repetion should be as length of the array.\n",
        "\n",
        "Hint: \n",
        "```\n",
        "if a is an array\n",
        "a = [2,4]\n",
        "a[[1,1,0,1]] will result in-> [4 4 2 4]\n",
        "```"
      ],
      "metadata": {
        "id": "Pi_dZSwTi4OI"
      }
    },
    {
      "cell_type": "code",
      "source": [
        "# code here\n",
        "\n",
        "#Double the array elements at given indexes\n",
        "\n",
        "arr = np.arange(10)\n",
        "indexes = [0,3,4,9]\n",
        "arr[indexes] = 2*arr[indexes] \n",
        "arr"
      ],
      "metadata": {
        "id": "SHYuyuovi66N",
        "colab": {
          "base_uri": "https://localhost:8080/"
        },
        "outputId": "cc237690-4a38-422c-c772-2038a24e7cdc"
      },
      "execution_count": null,
      "outputs": [
        {
          "output_type": "execute_result",
          "data": {
            "text/plain": [
              "array([ 0,  1,  2,  6,  8,  5,  6,  7,  8, 18])"
            ]
          },
          "metadata": {},
          "execution_count": 27
        }
      ]
    },
    {
      "cell_type": "code",
      "source": [
        "# Using a given array make a different array as in below example\n",
        "\n",
        "# array = [1,2,3]\n",
        "# result array -> [1 1 1 2 2 2 3 3 3]\n",
        "\n",
        "arr = np.array([1, 2, 3])\n",
        "arr1 = arr[[0, 0, 0, 1, 1, 1, 2, 2, 2]]\n",
        "arr1"
      ],
      "metadata": {
        "colab": {
          "base_uri": "https://localhost:8080/"
        },
        "id": "_pqUrgeHCMMT",
        "outputId": "7c4475a4-7fa8-46bd-948b-6b9cabfcf079"
      },
      "execution_count": null,
      "outputs": [
        {
          "output_type": "execute_result",
          "data": {
            "text/plain": [
              "array([1, 1, 1, 2, 2, 2, 3, 3, 3])"
            ]
          },
          "metadata": {},
          "execution_count": 28
        }
      ]
    },
    {
      "cell_type": "markdown",
      "source": [
        "###`Q-4:` Your are given an array which is havig some nan value. You job is to fill those nan values with most common element in the array.\n",
        "```\n",
        "arr=np.array([[1,2,np.nan],[4,2,6],[np.nan,np.nan,5]])\n",
        "\n",
        "```"
      ],
      "metadata": {
        "id": "UDehG0tFi89i"
      }
    },
    {
      "cell_type": "code",
      "source": [
        "# code here\n",
        "import numpy as np\n",
        "from collections import Counter\n",
        "\n",
        "def fill_nan_with_mode(arr):\n",
        "    flat_arr = arr.flatten()\n",
        "    mode = Counter(flat_arr[~np.isnan(flat_arr)]).most_common(1)[0][0]\n",
        "    arr[np.isnan(arr)] = mode\n",
        "    return arr"
      ],
      "metadata": {
        "id": "YH13A6w9jEyu"
      },
      "execution_count": null,
      "outputs": []
    },
    {
      "cell_type": "code",
      "source": [
        "arr = np.array([[1,2,np.nan],[4,2,6],[np.nan,np.nan,5]])\n",
        "print(fill_nan_with_mode(arr))"
      ],
      "metadata": {
        "colab": {
          "base_uri": "https://localhost:8080/"
        },
        "id": "WX-bfZ9inxR3",
        "outputId": "f6be45bf-7441-4bfd-8667-c580ed270043"
      },
      "execution_count": null,
      "outputs": [
        {
          "output_type": "stream",
          "name": "stdout",
          "text": [
            "[[1. 2. 2.]\n",
            " [4. 2. 6.]\n",
            " [2. 2. 5.]]\n"
          ]
        }
      ]
    },
    {
      "cell_type": "code",
      "source": [
        "a = np.array([1, 2, 2, 2, 4, 4, 5])\n",
        "Counter(a).most_common(2)"
      ],
      "metadata": {
        "colab": {
          "base_uri": "https://localhost:8080/"
        },
        "id": "6DJ7gLmxF_rO",
        "outputId": "5dbaf98c-cd95-4217-c549-b5d5bffbd396"
      },
      "execution_count": null,
      "outputs": [
        {
          "output_type": "execute_result",
          "data": {
            "text/plain": [
              "[(2, 3), (4, 2)]"
            ]
          },
          "metadata": {},
          "execution_count": 10
        }
      ]
    },
    {
      "cell_type": "code",
      "source": [
        "arr = np.array([[1,2,np.nan],[4,2,6],[np.nan,np.nan,5]])\n",
        "np.isnan(arr)"
      ],
      "metadata": {
        "colab": {
          "base_uri": "https://localhost:8080/"
        },
        "id": "HNOY13DnoTzb",
        "outputId": "675c8b1b-1ae9-4e69-e656-97df139757b1"
      },
      "execution_count": null,
      "outputs": [
        {
          "output_type": "execute_result",
          "data": {
            "text/plain": [
              "array([[False, False,  True],\n",
              "       [False, False, False],\n",
              "       [ True,  True, False]])"
            ]
          },
          "metadata": {},
          "execution_count": 4
        }
      ]
    },
    {
      "cell_type": "markdown",
      "source": [
        "### `Q-5:` Write a NumPy program \n",
        "\n",
        "- to find the missing data in a given array. Return a boolean matrix.\n",
        "- also try to fill those missing values with 0. For that, you can use `np.nan_to_num(a)`\n",
        "\n",
        "```python\n",
        "import numpy as np\n",
        "\n",
        "np.array([[3, 2, np.nan, 1],\n",
        "          [10, 12, 10, 9],\n",
        "          [5, np.nan, 1, np.nan]])\n",
        "```"
      ],
      "metadata": {
        "id": "Tk2JnioUjJ_t"
      }
    },
    {
      "cell_type": "code",
      "source": [
        "# code here\n",
        "import numpy as np\n",
        "\n",
        "arr = np.array([[3, 2, np.nan, 1],\n",
        "               [10, 12, 10, 9],\n",
        "               [5, np.nan, 1, np.nan]])\n",
        "arr"
      ],
      "metadata": {
        "id": "nPEBTQJ_jJZe",
        "colab": {
          "base_uri": "https://localhost:8080/"
        },
        "outputId": "238390d7-5711-4645-c21c-00746e23b847"
      },
      "execution_count": 11,
      "outputs": [
        {
          "output_type": "execute_result",
          "data": {
            "text/plain": [
              "array([[ 3.,  2., nan,  1.],\n",
              "       [10., 12., 10.,  9.],\n",
              "       [ 5., nan,  1., nan]])"
            ]
          },
          "metadata": {},
          "execution_count": 11
        }
      ]
    },
    {
      "cell_type": "code",
      "source": [
        "np.isnan(arr)"
      ],
      "metadata": {
        "colab": {
          "base_uri": "https://localhost:8080/"
        },
        "id": "nhBl4GrSRnaS",
        "outputId": "e14196bd-6b54-4c82-ca09-1f97644ef4be"
      },
      "execution_count": 14,
      "outputs": [
        {
          "output_type": "execute_result",
          "data": {
            "text/plain": [
              "array([[False, False,  True, False],\n",
              "       [False, False, False, False],\n",
              "       [False,  True, False,  True]])"
            ]
          },
          "metadata": {},
          "execution_count": 14
        }
      ]
    },
    {
      "cell_type": "code",
      "source": [
        "np.nan_to_num(arr, copy=False)\n",
        "arr"
      ],
      "metadata": {
        "colab": {
          "base_uri": "https://localhost:8080/"
        },
        "id": "9GpQwQcHR3Er",
        "outputId": "eb0cfa8f-c635-4c81-bd41-743c4af28321"
      },
      "execution_count": 18,
      "outputs": [
        {
          "output_type": "execute_result",
          "data": {
            "text/plain": [
              "array([[ 3.,  2.,  0.,  1.],\n",
              "       [10., 12., 10.,  9.],\n",
              "       [ 5.,  0.,  1.,  0.]])"
            ]
          },
          "metadata": {},
          "execution_count": 18
        }
      ]
    },
    {
      "cell_type": "markdown",
      "source": [
        "###`Q-6:` Given two arrays, X and Y, construct the Cauchy matrix C.\n",
        "`Cij =1/(xi - yj)`\n",
        "\n",
        "http://en.wikipedia.org/wiki/Cauchy_matrix\n",
        "```\n",
        "x = numpy.array([1,2,3,4]).reshape((-1, 1)\n",
        "y = numpy.array([5,6,7])\n",
        "```"
      ],
      "metadata": {
        "id": "FFUnZtG7jNBH"
      }
    },
    {
      "cell_type": "code",
      "source": [
        "# code here\n",
        "import numpy as np\n",
        "\n",
        "def cauchy_matrix(X, Y):\n",
        "    C = 1 / (np.subtract.outer(X, Y))\n",
        "    return C"
      ],
      "metadata": {
        "id": "pQXHa38TjVEh"
      },
      "execution_count": 20,
      "outputs": []
    },
    {
      "cell_type": "code",
      "source": [
        "X = np.array([1, 2, 3, 4]).reshape(-1, 1)\n",
        "Y = np.array([5, 6, 7])\n",
        "print(cauchy_matrix(X, Y))"
      ],
      "metadata": {
        "colab": {
          "base_uri": "https://localhost:8080/"
        },
        "id": "RjBODWidlxC4",
        "outputId": "f24bbe8b-dad6-41e3-9744-ec5a9b1c336d"
      },
      "execution_count": 21,
      "outputs": [
        {
          "output_type": "stream",
          "name": "stdout",
          "text": [
            "[[[-0.25       -0.2        -0.16666667]]\n",
            "\n",
            " [[-0.33333333 -0.25       -0.2       ]]\n",
            "\n",
            " [[-0.5        -0.33333333 -0.25      ]]\n",
            "\n",
            " [[-1.         -0.5        -0.33333333]]]\n"
          ]
        }
      ]
    },
    {
      "cell_type": "code",
      "source": [
        "X = np.array([1, 2, 3, 4])\n",
        "Y = np.array([5, 6, 7])\n",
        "print(cauchy_matrix(X, Y))"
      ],
      "metadata": {
        "colab": {
          "base_uri": "https://localhost:8080/"
        },
        "id": "44aygs1JmdGT",
        "outputId": "035cae45-1c1a-4ab3-9e80-ecfebbad3d0b"
      },
      "execution_count": 22,
      "outputs": [
        {
          "output_type": "stream",
          "name": "stdout",
          "text": [
            "[[-0.25       -0.2        -0.16666667]\n",
            " [-0.33333333 -0.25       -0.2       ]\n",
            " [-0.5        -0.33333333 -0.25      ]\n",
            " [-1.         -0.5        -0.33333333]]\n"
          ]
        }
      ]
    },
    {
      "cell_type": "code",
      "source": [
        "np.subtract.outer?"
      ],
      "metadata": {
        "id": "cML_VTyqmyed"
      },
      "execution_count": 23,
      "outputs": []
    },
    {
      "cell_type": "code",
      "source": [
        "#Brodcasting\n",
        "a = np.array([1, 2, 3]).reshape(-1, 1)\n",
        "b = np.array([1, 2, 2])\n",
        "a - b"
      ],
      "metadata": {
        "colab": {
          "base_uri": "https://localhost:8080/"
        },
        "id": "o3TaYpymnZ07",
        "outputId": "dcd32930-48a2-45be-8d76-64c203ab714f"
      },
      "execution_count": 25,
      "outputs": [
        {
          "output_type": "execute_result",
          "data": {
            "text/plain": [
              "array([[ 0, -1, -1],\n",
              "       [ 1,  0,  0],\n",
              "       [ 2,  1,  1]])"
            ]
          },
          "metadata": {},
          "execution_count": 25
        }
      ]
    },
    {
      "cell_type": "markdown",
      "source": [
        "###`Q-7:` Plot this below equation.\n",
        "\n",
        "$$\\large y = \\frac{e^x - e^{-x}}{e^x + e^{-x}}$$\n",
        "\n",
        "**Note: This equation is called tanh activation function. In deep learning, many times this function is used. If you find some difference between the sigmoid function and this tanh function, note that to your notebook.**"
      ],
      "metadata": {
        "id": "EbkHZCF1jWNc"
      }
    },
    {
      "cell_type": "code",
      "source": [
        "# code here\n",
        "import matplotlib.pyplot as plt\n",
        "\n",
        "x = np.linspace(-10, 10, 100)\n",
        "y = (np.exp(x) - np.exp(-x)) / (np.exp(x) + np.exp(-x))\n",
        "plt.plot(x, y);"
      ],
      "metadata": {
        "id": "n6OcN--FjbLC",
        "colab": {
          "base_uri": "https://localhost:8080/",
          "height": 265
        },
        "outputId": "94dc4a0a-4836-4870-bbd0-43906e3b6e3b"
      },
      "execution_count": 27,
      "outputs": [
        {
          "output_type": "display_data",
          "data": {
            "text/plain": [
              "<Figure size 432x288 with 1 Axes>"
            ],
            "image/png": "[encoded data removed]"
          },
          "metadata": {
            "needs_background": "light"
          }
        }
      ]
    },
    {
      "cell_type": "markdown",
      "source": [
        "### `Q-8:` Plot the below equation.\n",
        "\n",
        "$$\\large y = \\sqrt{36 - (x - 4)^2} + 2$$\n",
        "\n",
        "The range of x should be between -2 to 10. $x ∈ [-2, 10]$\n",
        "\n"
      ],
      "metadata": {
        "id": "xujS-pu4jciH"
      }
    },
    {
      "cell_type": "code",
      "source": [
        "# code here\n",
        "x = np.linspace(-2, 10, 100)\n",
        "y = np.sqrt(36 - (x - 4)**2) + 2\n",
        "plt.plot(x, y);"
      ],
      "metadata": {
        "id": "7CagwKP_jhIQ",
        "colab": {
          "base_uri": "https://localhost:8080/",
          "height": 265
        },
        "outputId": "3b883218-9c4f-4220-89fb-046e83842da6"
      },
      "execution_count": 29,
      "outputs": [
        {
          "output_type": "display_data",
          "data": {
            "text/plain": [
              "<Figure size 432x288 with 1 Axes>"
            ],
            "image/png": "[encoded data removed]"
          },
          "metadata": {
            "needs_background": "light"
          }
        }
      ]
    },
    {
      "cell_type": "markdown",
      "source": [
        "### `Q-9:` Write a program implement Boradcasting Rule to check if two array can be added or not.\n",
        "Given tuples of shapes.\n",
        "```\n",
        "shape of a- (3,2,2)\n",
        "shape of b- (2,2)\n",
        "\n",
        "check_broadcast(a, b) -> return Boolean (True if can broadcasted, False other wise.)\n",
        "```"
      ],
      "metadata": {
        "id": "Jf14pxCfjiX1"
      }
    },
    {
      "cell_type": "code",
      "source": [
        "# code here\n",
        "import numpy as np\n",
        "\n",
        "def check_broadcast(a, b):\n",
        "    try:\n",
        "        np.broadcast(a, b)\n",
        "        return True\n",
        "    except ValueError:\n",
        "        return False"
      ],
      "metadata": {
        "id": "qSKGG0Yajlc8"
      },
      "execution_count": 30,
      "outputs": []
    },
    {
      "cell_type": "code",
      "source": [
        "a = np.random.rand(3, 2, 2)\n",
        "b = np.random.rand(2, 2)\n",
        "print(check_broadcast(a, b))"
      ],
      "metadata": {
        "id": "MLRoITG1q8YX",
        "outputId": "9dae4d43-8cf4-47ce-d1e0-71df9b3ad6c5",
        "colab": {
          "base_uri": "https://localhost:8080/"
        }
      },
      "execution_count": 33,
      "outputs": [
        {
          "output_type": "stream",
          "name": "stdout",
          "text": [
            "True\n"
          ]
        }
      ]
    },
    {
      "cell_type": "code",
      "source": [
        "a = np.random.rand(3, 4)\n",
        "b = np.random.rand(4, 3)\n",
        "print(check_broadcast(a, b))"
      ],
      "metadata": {
        "colab": {
          "base_uri": "https://localhost:8080/"
        },
        "id": "gZj92hWjqsiH",
        "outputId": "2a6e0818-6dc9-41ca-9396-959164057156"
      },
      "execution_count": 32,
      "outputs": [
        {
          "output_type": "stream",
          "name": "stdout",
          "text": [
            "False\n"
          ]
        }
      ]
    }
  ]
}