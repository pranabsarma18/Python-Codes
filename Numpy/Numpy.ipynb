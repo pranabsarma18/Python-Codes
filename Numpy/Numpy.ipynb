{
  "nbformat": 4,
  "nbformat_minor": 0,
  "metadata": {
    "colab": {
      "provenance": [],
      "include_colab_link": true
    },
    "kernelspec": {
      "name": "python3",
      "display_name": "Python 3"
    },
    "language_info": {
      "name": "python"
    }
  },
  "cells": [
    {
      "cell_type": "markdown",
      "metadata": {
        "id": "view-in-github",
        "colab_type": "text"
      },
      "source": [
        "<a href=\"https://colab.research.google.com/github/pranabsarma18/Python-Codes/blob/main/Numpy/Numpy.ipynb\" target=\"_parent\"><img src=\"https://colab.research.google.com/assets/colab-badge.svg\" alt=\"Open In Colab\"/></a>"
      ]
    },
    {
      "cell_type": "markdown",
      "source": [
        "**Note: In Data Science googling is a very important skill. If you find some difficulties to solve the problem, google it and try to find some clues to solve.**"
      ],
      "metadata": {
        "id": "6WdKdPGx-tnY"
      }
    },
    {
      "cell_type": "code",
      "source": [
        "import numpy as np"
      ],
      "metadata": {
        "id": "-J4F1ysN4mLk"
      },
      "execution_count": 1,
      "outputs": []
    },
    {
      "cell_type": "markdown",
      "source": [
        "###`Q-1` Create a null vector of size 10 but the fifth value which is 1.\n",
        "\n"
      ],
      "metadata": {
        "id": "a_K8IH-C6HDK"
      }
    },
    {
      "cell_type": "code",
      "source": [
        "#Code here\n",
        "vec = np.zeros(10)\n",
        "vec[4] = 1\n",
        "print(vec)"
      ],
      "metadata": {
        "id": "sTF03KsZ6QUI",
        "colab": {
          "base_uri": "https://localhost:8080/"
        },
        "outputId": "81aa9086-2876-4762-f3bd-7de6ce4159af"
      },
      "execution_count": 2,
      "outputs": [
        {
          "output_type": "stream",
          "name": "stdout",
          "text": [
            "[0. 0. 0. 0. 1. 0. 0. 0. 0. 0.]\n"
          ]
        }
      ]
    },
    {
      "cell_type": "markdown",
      "source": [
        "###`Q-2` Ask user to input two numbers a, b. Write a program to generate a random array of shape (a, b) and print the array and avg of the array."
      ],
      "metadata": {
        "id": "TEiG25rS6S1i"
      }
    },
    {
      "cell_type": "code",
      "source": [
        "#Code here\n",
        "a = int(input(\"First number: \"))\n",
        "b = int(input(\"Second number: \"))\n",
        "random_array = np.random.rand(a,b)\n",
        "print(random_array)\n",
        "print(random_array.mean())"
      ],
      "metadata": {
        "id": "ihwn4oOH6Vh7",
        "colab": {
          "base_uri": "https://localhost:8080/"
        },
        "outputId": "7455d5a3-54cc-419e-8da2-bf99eede107a"
      },
      "execution_count": 3,
      "outputs": [
        {
          "output_type": "stream",
          "name": "stdout",
          "text": [
            "First number: 2\n",
            "Second number: 2\n",
            "[[0.67497167 0.17193086]\n",
            " [0.68070407 0.41639526]]\n",
            "0.48600046324474055\n"
          ]
        }
      ]
    },
    {
      "cell_type": "code",
      "source": [
        "import numpy as np\n",
        "\n",
        "a = int(input(\"Enter the number of rows for the array: \"))\n",
        "b = int(input(\"Enter the number of columns for the array: \"))\n",
        "\n",
        "# Generate the array\n",
        "arr = np.random.rand(a, b)\n",
        "\n",
        "# Print the array\n",
        "print(\"The generated array:\")\n",
        "print(arr)\n",
        "\n",
        "# Print the average of the array\n",
        "print(\"The average of the array is: \",arr.mean())\n"
      ],
      "metadata": {
        "colab": {
          "base_uri": "https://localhost:8080/"
        },
        "id": "e6evOS1ygB5i",
        "outputId": "64fa81ff-3836-46a1-d18a-adfff8c3d395"
      },
      "execution_count": 4,
      "outputs": [
        {
          "output_type": "stream",
          "name": "stdout",
          "text": [
            "Enter the number of rows for the array: 2\n",
            "Enter the number of columns for the array: 2\n",
            "The generated array:\n",
            "[[0.4742878  0.05976196]\n",
            " [0.66955326 0.73185253]]\n",
            "The average of the array is:  0.4838638896711951\n"
          ]
        }
      ]
    },
    {
      "cell_type": "markdown",
      "source": [
        "###`Q-3`Write a function to create a 2d array with 1 on the border and 0 inside. Take 2-D array shape as (a,b) as parameter to function.\n",
        "\n",
        "Eg.-\n",
        "```\n",
        "[[1,1,1,1],\n",
        "[1,0,0,1],\n",
        "[1,0,0,1],\n",
        "[1,1,1,1]]\n",
        "```"
      ],
      "metadata": {
        "id": "2iEeybS06ZSq"
      }
    },
    {
      "cell_type": "code",
      "source": [
        "#Code here\n",
        "import numpy as np\n",
        "\n",
        "def border_array(shape):\n",
        "    a, b = shape\n",
        "    arr = np.zeros(shape)\n",
        "    arr[0,:] = 1\n",
        "    arr[-1,:] = 1\n",
        "    arr[:,0] = 1\n",
        "    arr[:,-1] = 1\n",
        "    return arr\n",
        "\n",
        "shape = (4,5)\n",
        "result = border_array(shape)\n",
        "print(result)"
      ],
      "metadata": {
        "id": "gEKndkDU6ZSs",
        "colab": {
          "base_uri": "https://localhost:8080/"
        },
        "outputId": "94f7ee56-9c99-488e-d170-739dc1af280c"
      },
      "execution_count": 5,
      "outputs": [
        {
          "output_type": "stream",
          "name": "stdout",
          "text": [
            "[[1. 1. 1. 1. 1.]\n",
            " [1. 0. 0. 0. 1.]\n",
            " [1. 0. 0. 0. 1.]\n",
            " [1. 1. 1. 1. 1.]]\n"
          ]
        }
      ]
    },
    {
      "cell_type": "markdown",
      "source": [
        "###`Q-4` Create a vector of size 10 with values ranging from 0 to 1, both excluded.\n"
      ],
      "metadata": {
        "id": "QRJicQ8j6ZlE"
      }
    },
    {
      "cell_type": "code",
      "source": [
        "#Code here\n",
        "np.linspace(0, 1, 10)"
      ],
      "metadata": {
        "id": "eC4XLhDq6ZlF",
        "colab": {
          "base_uri": "https://localhost:8080/"
        },
        "outputId": "10b9fdb9-542b-40e7-fe1e-d91c02e4547b"
      },
      "execution_count": 6,
      "outputs": [
        {
          "output_type": "execute_result",
          "data": {
            "text/plain": [
              "array([0.        , 0.11111111, 0.22222222, 0.33333333, 0.44444444,\n",
              "       0.55555556, 0.66666667, 0.77777778, 0.88888889, 1.        ])"
            ]
          },
          "metadata": {},
          "execution_count": 6
        }
      ]
    },
    {
      "cell_type": "code",
      "source": [
        "vector = np.random.rand(10)\n",
        "print(vector)"
      ],
      "metadata": {
        "colab": {
          "base_uri": "https://localhost:8080/"
        },
        "id": "U5tbNcS-KJTi",
        "outputId": "94674a21-1944-441c-8492-38e698d9a5f3"
      },
      "execution_count": 7,
      "outputs": [
        {
          "output_type": "stream",
          "name": "stdout",
          "text": [
            "[0.03941891 0.33780762 0.90489817 0.19191086 0.92379062 0.11512041\n",
            " 0.41440086 0.58110183 0.33520981 0.99562755]\n"
          ]
        }
      ]
    },
    {
      "cell_type": "markdown",
      "source": [
        "###`Q-5` Can you create a identity mattrix of shape (3,4). If yes write code for it."
      ],
      "metadata": {
        "id": "vb4jK4yQ6Zs2"
      }
    },
    {
      "cell_type": "code",
      "source": [
        "#Code here\n",
        "import numpy as np\n",
        "\n",
        "matrix = np.eye(3,4)\n",
        "print(matrix)"
      ],
      "metadata": {
        "id": "DTV_AbMS6Zs4",
        "colab": {
          "base_uri": "https://localhost:8080/"
        },
        "outputId": "2fbd0b74-880a-49b0-874a-6e12d8a2a935"
      },
      "execution_count": 8,
      "outputs": [
        {
          "output_type": "stream",
          "name": "stdout",
          "text": [
            "[[1. 0. 0. 0.]\n",
            " [0. 1. 0. 0.]\n",
            " [0. 0. 1. 0.]]\n"
          ]
        }
      ]
    },
    {
      "cell_type": "markdown",
      "source": [
        "###`Q-6:` Create a 5x5 matrix with row values ranging from 0 to 4."
      ],
      "metadata": {
        "id": "QtjAFm5PEntK"
      }
    },
    {
      "cell_type": "code",
      "source": [
        "#Code here\n",
        "matrix = np.zeros((5,5))*4\n",
        "matrix = matrix + np.array([0,1,2,3,4])\n",
        "\n",
        "print(matrix)"
      ],
      "metadata": {
        "id": "z2WGxRjvEuRS",
        "colab": {
          "base_uri": "https://localhost:8080/"
        },
        "outputId": "c7f31eff-4ba1-4be4-cbc7-dbb7229b7a9f"
      },
      "execution_count": 9,
      "outputs": [
        {
          "output_type": "stream",
          "name": "stdout",
          "text": [
            "[[0. 1. 2. 3. 4.]\n",
            " [0. 1. 2. 3. 4.]\n",
            " [0. 1. 2. 3. 4.]\n",
            " [0. 1. 2. 3. 4.]\n",
            " [0. 1. 2. 3. 4.]]\n"
          ]
        }
      ]
    },
    {
      "cell_type": "markdown",
      "source": [
        "###`Q-7:`  Consider a random integer (in range 1 to 100) vector with shape `(10,2)` representing coordinates, and coordinates of a point as array is given. Create an array of distance of each point in the random vectros from the given point. Distance array should be interger type.\n",
        "\n",
        "```\n",
        "point = np.array([2,3]) \n",
        "```\n"
      ],
      "metadata": {
        "id": "KPpvxKjVHnyx"
      }
    },
    {
      "cell_type": "code",
      "source": [
        "#code here\n",
        "import numpy as np\n",
        "# Create random integer vector of shape (10,2) representing coordinates\n",
        "coords = np.random.randint(1, 100, size=(10, 2))\n",
        "print(coords)\n",
        "# Coordinates of the given point\n",
        "point = np.array([50, 50])\n",
        "# Calculate the distance between the point and each point in the vector\n",
        "distances = np.linalg.norm(coords - point, axis=1)\n",
        "# Round to the nearest integer\n",
        "distances = np.round(distances)\n",
        "# convert to int\n",
        "distances = distances.astype(int)\n",
        "print(distances)"
      ],
      "metadata": {
        "id": "X7KGnWLNIM6f",
        "colab": {
          "base_uri": "https://localhost:8080/"
        },
        "outputId": "9457ed32-cb80-4c41-d902-83496cbd3ee6"
      },
      "execution_count": 10,
      "outputs": [
        {
          "output_type": "stream",
          "name": "stdout",
          "text": [
            "[[68 16]\n",
            " [ 6  7]\n",
            " [37 96]\n",
            " [28 52]\n",
            " [13 88]\n",
            " [37 65]\n",
            " [76 46]\n",
            " [45  1]\n",
            " [12 61]\n",
            " [16 77]]\n",
            "[38 62 48 22 53 20 26 49 40 43]\n"
          ]
        }
      ]
    },
    {
      "cell_type": "markdown",
      "source": [
        "###`Q-8:` Consider a (6,7,8) shape array, what is the index (x,y,z) of the 100th element?"
      ],
      "metadata": {
        "id": "tajOFJlCDwTr"
      }
    },
    {
      "cell_type": "code",
      "source": [
        "#Code here\n",
        "import numpy as np\n",
        "\n",
        "# shape of the array\n",
        "shape = (6, 7, 8)\n",
        "\n",
        "# index of the 100th element\n",
        "index = 99\n",
        "\n",
        "# get the indices in each dimension\n",
        "x, y, z = np.unravel_index(index, shape)\n",
        "\n",
        "print(\"Indices of the 100th element: (x,y,z) = ({},{},{})\".format(x, y, z))"
      ],
      "metadata": {
        "id": "qH4oxvs0D3Ra",
        "colab": {
          "base_uri": "https://localhost:8080/"
        },
        "outputId": "9507012b-aee9-4cf5-d349-a6af5fa50a8c"
      },
      "execution_count": 11,
      "outputs": [
        {
          "output_type": "stream",
          "name": "stdout",
          "text": [
            "Indices of the 100th element: (x,y,z) = (1,5,3)\n"
          ]
        }
      ]
    },
    {
      "cell_type": "code",
      "source": [
        "np.unravel_index?"
      ],
      "metadata": {
        "id": "zTnYCkHdU_RU"
      },
      "execution_count": 12,
      "outputs": []
    },
    {
      "cell_type": "markdown",
      "source": [
        "### `Q-9:` Arrays\n",
        "\n",
        "You are given a space separated list of numbers. Your task is to print a reversed NumPy array with the element type float.\n",
        "\n"
      ],
      "metadata": {
        "id": "9LxBAbT2Pw33"
      }
    },
    {
      "cell_type": "markdown",
      "source": [
        "**Input Format:**\n",
        "\n",
        "A single line of input containing space separated numbers.\n",
        "\n",
        "**Output Format:**\n",
        "\n",
        "Print the reverse NumPy array with type float.\n",
        "\n",
        "**Example 1:**\n",
        "\n",
        "Input:\n",
        "\n",
        "```bash\n",
        "1 2 3 4 -8 -10\n",
        "```\n",
        "\n",
        "Output:\n",
        "\n",
        "```bash\n",
        "[-10.  -8.   4.   3.   2.   1.]\n",
        "```"
      ],
      "metadata": {
        "id": "JJpqVms2Nq7L"
      }
    },
    {
      "cell_type": "code",
      "source": [
        "#Code here\n",
        "import numpy as np\n",
        "\n",
        "# Input: space separated numbers as a string\n",
        "numbers = input()\n",
        "\n",
        "# Convert the string of numbers to a list of integers\n",
        "numbers_list = list(map(float, numbers.split()))\n",
        "\n",
        "# Create a NumPy array from the list\n",
        "numbers_array = np.array(numbers_list)\n",
        "\n",
        "# Reverse the array\n",
        "reversed_array = np.flip(numbers_array)\n",
        "\n",
        "# Print the reversed array with type float\n",
        "print(reversed_array.astype(float))"
      ],
      "metadata": {
        "id": "7iQyg6ChNl3j",
        "colab": {
          "base_uri": "https://localhost:8080/"
        },
        "outputId": "cf8ec208-506a-45b1-9259-14ec984ebc6a"
      },
      "execution_count": 13,
      "outputs": [
        {
          "output_type": "stream",
          "name": "stdout",
          "text": [
            "1 -3 -7 2 67\n",
            "[67.  2. -7. -3.  1.]\n"
          ]
        }
      ]
    },
    {
      "cell_type": "markdown",
      "source": [
        "### `Q-10:` Elements count\n",
        "\n",
        "Count the number of elements of a numpy array.\n",
        "\n"
      ],
      "metadata": {
        "id": "TPxD7jM8Sjz9"
      }
    },
    {
      "cell_type": "markdown",
      "source": [
        "**Example 1:**\n",
        "\n",
        "Input:\n",
        "```bash\n",
        "np.array([])\n",
        "```\n",
        "\n",
        "Output:\n",
        "```bash\n",
        "elements_count :  0\n",
        "```\n",
        "\n",
        "**Example 2:**\n",
        "\n",
        "Input:\n",
        "```bash\n",
        "np.array([1, 2])\n",
        "```\n",
        "\n",
        "Output:\n",
        "```bash\n",
        "elements_count :  2\n",
        "```"
      ],
      "metadata": {
        "id": "oHTiTz_jNkAU"
      }
    },
    {
      "cell_type": "code",
      "source": [
        "#Code here\n",
        "len(np.array([1, 2]))"
      ],
      "metadata": {
        "id": "RG0H2I-TNeGN",
        "colab": {
          "base_uri": "https://localhost:8080/"
        },
        "outputId": "d515b212-c949-4261-a31a-de72742383bb"
      },
      "execution_count": 15,
      "outputs": [
        {
          "output_type": "execute_result",
          "data": {
            "text/plain": [
              "2"
            ]
          },
          "metadata": {},
          "execution_count": 15
        }
      ]
    },
    {
      "cell_type": "markdown",
      "source": [
        "### `Q-11:` Softmax function\n",
        "\n",
        "Create a Python function to calculate the Softmax of the given numpy 1D array. The function only accepts the numpy 1D array, otherwise raise error.\n",
        "\n",
        "$$\\Large \\sigma(\\vec z)_i = \\frac{e^{z_i}}{\\sum_{j=i}^{K}{e^{z_j}}}$$\n",
        "\n",
        "https://en.wikipedia.org/wiki/Softmax_function\n",
        "\n"
      ],
      "metadata": {
        "id": "pwgPz-3l5ic5"
      }
    },
    {
      "cell_type": "markdown",
      "source": [
        "**Example 1:**\n",
        "\n",
        "Input:\n",
        "```bash\n",
        "[86.03331084 37.7285648  48.64908087 87.16563062 38.40852563 37.20006318]\n",
        "```\n",
        "\n",
        "Output:\n",
        "```bash\n",
        "[2.43733249e-01, 2.56112115e-22, 1.41628284e-17, 7.56266751e-01, \n",
        "       5.05514197e-22, 1.50974911e-22]\n",
        "```\n",
        "\n",
        "**Example 2:**\n",
        "\n",
        "Input:\n",
        "```bash\n",
        "[33.17344305 45.61961654 82.05405781 80.9647098  68.82830233 91.52064278]\n",
        "```\n",
        "\n",
        "Output:\n",
        "```bash\n",
        "[4.57181035e-26, 1.16249923e-20, 7.73872596e-05, 2.60358426e-05,\n",
        "       1.39571531e-10, 9.99896577e-01]\n",
        "```"
      ],
      "metadata": {
        "id": "eZ3WJt6UM1ul"
      }
    },
    {
      "cell_type": "code",
      "source": [
        "#Code here\n",
        "def soft_max(y):\n",
        "    y = np.array(y)\n",
        "    if y.shape == (len(y), ):\n",
        "        return np.exp(y)/np.exp(y).sum()"
      ],
      "metadata": {
        "id": "VNzj05lkNaNi"
      },
      "execution_count": 19,
      "outputs": []
    },
    {
      "cell_type": "code",
      "source": [
        "soft_max([33.17344305, 45.61961654, 82.05405781, 80.9647098, 68.82830233, 91.52064278])"
      ],
      "metadata": {
        "colab": {
          "base_uri": "https://localhost:8080/"
        },
        "id": "xxkq-7MUZf9B",
        "outputId": "3eb41ec3-d947-4c77-c91a-d9de7bda3c29"
      },
      "execution_count": 20,
      "outputs": [
        {
          "output_type": "execute_result",
          "data": {
            "text/plain": [
              "array([4.57181033e-26, 1.16249922e-20, 7.73872594e-05, 2.60358426e-05,\n",
              "       1.39571531e-10, 9.99896577e-01])"
            ]
          },
          "metadata": {},
          "execution_count": 20
        }
      ]
    },
    {
      "cell_type": "code",
      "source": [
        "import numpy as np\n",
        "\n",
        "def softmax(arr):\n",
        "    if not isinstance(arr, np.ndarray) or arr.ndim != 1:\n",
        "        raise ValueError(\"Input should be a 1D numpy array.\")\n",
        "\n",
        "    # Calculation of the Softmax\n",
        "    exp_arr = np.exp(arr)\n",
        "    return exp_arr / np.sum(exp_arr)"
      ],
      "metadata": {
        "id": "S9k7yxWpaAKV"
      },
      "execution_count": 21,
      "outputs": []
    },
    {
      "cell_type": "code",
      "source": [
        "arr = np.array([1, 2, 3])\n",
        "print(softmax(arr))"
      ],
      "metadata": {
        "colab": {
          "base_uri": "https://localhost:8080/"
        },
        "id": "um8oGfcBgjHf",
        "outputId": "b0f531f3-ad03-4d10-f91c-609fe346cd99"
      },
      "execution_count": 26,
      "outputs": [
        {
          "output_type": "stream",
          "name": "stdout",
          "text": [
            "[0.09003057 0.24472847 0.66524096]\n"
          ]
        }
      ]
    },
    {
      "cell_type": "code",
      "source": [
        "try:\n",
        "    softmax(np.array([[1, 0],[0, 1]]))\n",
        "except ValueError:\n",
        "    print(\"Input should be a 1D numpy array\")"
      ],
      "metadata": {
        "colab": {
          "base_uri": "https://localhost:8080/"
        },
        "id": "ZIYp-sdiaIek",
        "outputId": "cabecccd-4ac4-46b5-ed3d-b35500b130f9"
      },
      "execution_count": 25,
      "outputs": [
        {
          "output_type": "stream",
          "name": "stdout",
          "text": [
            "Input should be a 1D numpy array\n"
          ]
        }
      ]
    },
    {
      "cell_type": "markdown",
      "source": [
        "### `Q-12:` Vertical stack\n",
        "\n",
        "Write a python function that accepts infinite number of numpy arrays and do the vertical stack to them. Then return that new array as result. The function only accepts the numpy array, otherwise raise error.\n",
        "\n"
      ],
      "metadata": {
        "id": "k4JWSwWu_HXg"
      }
    },
    {
      "cell_type": "markdown",
      "source": [
        "**Example 1:**\n",
        "\n",
        "Input:\n",
        "```bash\n",
        "a= [[0 1 2 3 4]\n",
        " [5 6 7 8 9]]\n",
        "\n",
        "b= [[1 1 1 1 1]\n",
        " [1 1 1 1 1]]\n",
        "```\n",
        "\n",
        "Output:\n",
        "\n",
        "```bash\n",
        "[[0 1 2 3 4]\n",
        " [5 6 7 8 9]\n",
        " [1 1 1 1 1]\n",
        " [1 1 1 1 1]]\n",
        "```\n",
        "\n",
        "**Example 2:**\n",
        "\n",
        "Input:\n",
        "```bash\n",
        "a= [[0 1 2 3 4]\n",
        " [5 6 7 8 9]]\n",
        "\n",
        "b= [[1 1 1 1 1]\n",
        " [1 1 1 1 1]]\n",
        "\n",
        "c= [[0.10117373 0.1677244  0.73764059 0.83166097 0.48985695]\n",
        " [0.44581567 0.13502419 0.55692335 0.16479622 0.61193593]] \n",
        "```\n",
        "\n",
        "Output:\n",
        "```bash\n",
        "[[0.         1.         2.         3.         4.        ]\n",
        " [5.         6.         7.         8.         9.        ]\n",
        " [1.         1.         1.         1.         1.        ]\n",
        " [1.         1.         1.         1.         1.        ]\n",
        " [0.10117373 0.1677244  0.73764059 0.83166097 0.48985695]\n",
        " [0.44581567 0.13502419 0.55692335 0.16479622 0.61193593]]\n",
        "```"
      ],
      "metadata": {
        "id": "XhhV3mraNAWr"
      }
    },
    {
      "cell_type": "code",
      "source": [
        "#Coder here\n",
        "import numpy as np\n",
        "\n",
        "def stack_vertically(*args):\n",
        "    for arr in args:\n",
        "        if not isinstance(arr, np.ndarray):\n",
        "            raise ValueError(\"All input should be numpy array.\")\n",
        "    return np.vstack(args)"
      ],
      "metadata": {
        "id": "dhtnbSj6NP8z"
      },
      "execution_count": 27,
      "outputs": []
    },
    {
      "cell_type": "code",
      "source": [
        "arr1 = np.array([1, 2, 3])\n",
        "arr2 = np.array([4, 5, 6])\n",
        "arr3 = np.array([7, 8, 9])\n",
        "result = stack_vertically(arr1, arr2, arr3)\n",
        "print(result)"
      ],
      "metadata": {
        "colab": {
          "base_uri": "https://localhost:8080/"
        },
        "id": "9HYqM0xEg6rg",
        "outputId": "41999b73-fe50-4288-8486-2ad487263198"
      },
      "execution_count": 29,
      "outputs": [
        {
          "output_type": "stream",
          "name": "stdout",
          "text": [
            "[[1 2 3]\n",
            " [4 5 6]\n",
            " [7 8 9]]\n"
          ]
        }
      ]
    },
    {
      "cell_type": "markdown",
      "source": [
        "### `Q-13:` Dates\n",
        "\n",
        "Create a python function named **date_array** that accepts two dates as string format and returns a numpy array of dates between those 2 dates. The function only accept 2 strings, otherwise raise error. The date format should be like this only: `2022-12-6`. The end date should be included and for simplicity, choose dates from a same year.\n",
        "\n"
      ],
      "metadata": {
        "id": "3mk8T6CuC2DP"
      }
    },
    {
      "cell_type": "markdown",
      "source": [
        "**Example 1:**\n",
        "\n",
        "Input:\n",
        "```bash\n",
        "date_array(start = '2020-09-15', end = '2020-09-25')\n",
        "```\n",
        "\n",
        "Output:\n",
        "```bash\n",
        "['2020-09-15', '2020-09-16', '2020-09-17', '2020-09-18',\n",
        " '2020-09-19', '2020-09-20', '2020-09-21', '2020-09-22',\n",
        " '2020-09-23', '2020-09-24', '2020-09-25']\n",
        "```\n",
        "\n",
        "**Example 2:**\n",
        "\n",
        "Input:\n",
        "```bash\n",
        "date_array(start = '2022-12-01', end = '2022-12-06')\n",
        "```\n",
        "\n",
        "Output:\n",
        "```bash\n",
        "['2022-12-01', '2022-12-02', '2022-12-03', '2022-12-04', '2022-12-05', '2022-12-06']\n",
        "```\n",
        "\n",
        "**Example 3:**\n",
        "\n",
        "Input:\n",
        "```bash\n",
        "date_array(start = '2020-11-25', end = '2020-11-30')\n",
        "```\n",
        "\n",
        "Output:\n",
        "```bash\n",
        "['2020-11-25', '2020-11-26', '2020-11-27', '2020-11-28',\n",
        " '2020-11-29', '2020-11-30']\n",
        "```"
      ],
      "metadata": {
        "id": "E3IgjnTTNFEk"
      }
    },
    {
      "cell_type": "code",
      "source": [
        "import numpy as np\n",
        "from datetime import datetime, timedelta\n",
        "\n",
        "def date_array(start_date, end_date):\n",
        "    if not (isinstance(start_date, str) and isinstance(end_date, str)):\n",
        "        raise ValueError(\"Both start_date and end_date should be string\")\n",
        "    try:\n",
        "        start_date = datetime.strptime(start_date, '%Y-%m-%d')\n",
        "        end_date = datetime.strptime(end_date, '%Y-%m-%d')\n",
        "    except ValueError:\n",
        "        raise ValueError(\"Date format should be YYYY-MM-DD\")\n",
        "    if start_date > end_date:\n",
        "        raise ValueError(\"End date should be greater than start date\")\n",
        "    date_list = [start_date + timedelta(days=x) for x in range(0, (end_date-start_date).days+1)]\n",
        "    date_array = np.array([date.strftime('%Y-%m-%d') for date in date_list])\n",
        "    return date_array"
      ],
      "metadata": {
        "id": "Yj5PBfQQNTnL"
      },
      "execution_count": 32,
      "outputs": []
    },
    {
      "cell_type": "code",
      "source": [
        "start_date = \"2020-09-15\"\n",
        "end_date = \"2020-09-25\"\n",
        "result = date_array(start_date, end_date)\n",
        "print(result)"
      ],
      "metadata": {
        "colab": {
          "base_uri": "https://localhost:8080/"
        },
        "id": "GMXSJE-VmQHb",
        "outputId": "2da2adae-eede-4c1c-f96c-a9119b3a932d"
      },
      "execution_count": 33,
      "outputs": [
        {
          "output_type": "stream",
          "name": "stdout",
          "text": [
            "['2020-09-15' '2020-09-16' '2020-09-17' '2020-09-18' '2020-09-19'\n",
            " '2020-09-20' '2020-09-21' '2020-09-22' '2020-09-23' '2020-09-24'\n",
            " '2020-09-25']\n"
          ]
        }
      ]
    },
    {
      "cell_type": "markdown",
      "source": [
        "###`Q-14:` Subtract the mean of each row from a matrix."
      ],
      "metadata": {
        "id": "bcEp0wTWQijK"
      }
    },
    {
      "cell_type": "code",
      "source": [
        "#code here\n",
        "import numpy as np\n",
        "\n",
        "matrix = np.array([[1, 2, 3], [4, 5, 6], [7, 8, 9]])\n",
        "print(matrix)\n",
        "print()\n",
        "# calculate the mean of each row\n",
        "row_means = matrix.mean(axis=1)\n",
        "print(row_means)\n",
        "print()\n",
        "print(row_means.reshape(-1,1))\n",
        "print()\n",
        "# subtract the mean of each row from the matrix\n",
        "#result = matrix - row_means[:, np.newaxis]\n",
        "result = matrix - row_means.reshape(-1,1)\n",
        "print(result)"
      ],
      "metadata": {
        "id": "rpILVGcgQzMo",
        "colab": {
          "base_uri": "https://localhost:8080/"
        },
        "outputId": "9be4c386-3b80-47c6-c868-befd37bd5ebd"
      },
      "execution_count": 40,
      "outputs": [
        {
          "output_type": "stream",
          "name": "stdout",
          "text": [
            "[[1 2 3]\n",
            " [4 5 6]\n",
            " [7 8 9]]\n",
            "\n",
            "[2. 5. 8.]\n",
            "\n",
            "[[2.]\n",
            " [5.]\n",
            " [8.]]\n",
            "\n",
            "[[-1.  0.  1.]\n",
            " [-1.  0.  1.]\n",
            " [-1.  0.  1.]]\n"
          ]
        }
      ]
    },
    {
      "cell_type": "markdown",
      "source": [
        "###`Q-15:` Swap column-1 of array with column-2 in the array."
      ],
      "metadata": {
        "id": "A-dMVlPPSBTT"
      }
    },
    {
      "cell_type": "code",
      "source": [
        "#Code here\n",
        "import numpy as np\n",
        "\n",
        "matrix = np.array([[1, 2, 3], [4, 5, 6], [7, 8, 9]])\n",
        "print(matrix)\n",
        "print()\n",
        "# Get the column 1 and column 2\n",
        "col1 = matrix[:, 0].copy()\n",
        "col2 = matrix[:, 1].copy()\n",
        "\n",
        "# Swap the columns\n",
        "matrix[:, 0] = col2\n",
        "matrix[:, 1] = col1\n",
        "\n",
        "print(matrix)"
      ],
      "metadata": {
        "id": "3RtngM9-Q6S7",
        "colab": {
          "base_uri": "https://localhost:8080/"
        },
        "outputId": "7aada210-cbd5-43bd-cd17-7060fe539d2d"
      },
      "execution_count": 45,
      "outputs": [
        {
          "output_type": "stream",
          "name": "stdout",
          "text": [
            "[[1 2 3]\n",
            " [4 5 6]\n",
            " [7 8 9]]\n",
            "\n",
            "[[2 1 3]\n",
            " [5 4 6]\n",
            " [8 7 9]]\n"
          ]
        }
      ]
    },
    {
      "cell_type": "markdown",
      "source": [
        "###`Q-16:` Replace odd elements in arrays with -1."
      ],
      "metadata": {
        "id": "cB4VMexvS6Zi"
      }
    },
    {
      "cell_type": "code",
      "source": [
        "#Code here\n",
        "import numpy as np\n",
        "\n",
        "arr = np.array([1, 2, 3, 4, 5, 6, 7, 8, 9])\n",
        "\n",
        "# Get the indices of odd elements\n",
        "indices = np.where(arr % 2 == 1)\n",
        "print(indices)\n",
        "\n",
        "# Replace odd elements with -1\n",
        "arr[indices] = -1\n",
        "\n",
        "print(arr)"
      ],
      "metadata": {
        "id": "Bt83nXEVS5O4",
        "colab": {
          "base_uri": "https://localhost:8080/"
        },
        "outputId": "3aeb7270-faed-4c36-9c01-d0b41311f73a"
      },
      "execution_count": 52,
      "outputs": [
        {
          "output_type": "stream",
          "name": "stdout",
          "text": [
            "(array([0, 2, 4, 6, 8]),)\n",
            "[-1  2 -1  4 -1  6 -1  8 -1]\n"
          ]
        }
      ]
    },
    {
      "cell_type": "markdown",
      "source": [
        "###`Q-17:` Given two arrays of same shape make an array of max out of two arrays. (Numpy way)\n",
        "```\n",
        "a=np.array([6,3,1,5,8])\n",
        "b=np.array([3,2,1,7,2])\n",
        "\n",
        "Result-> [6 3 1 7 8]\n",
        "``` "
      ],
      "metadata": {
        "id": "kf_qvmBxWIT_"
      }
    },
    {
      "cell_type": "code",
      "source": [
        "#Code here\n",
        "import numpy as np\n",
        "\n",
        "arr1 = np.array([6,3,1,5,8])\n",
        "arr2 = np.array([3,2,1,7,2])\n",
        "\n",
        "# Get the max values of the two arrays\n",
        "result = np.maximum(arr1, arr2)\n",
        "\n",
        "print(result)"
      ],
      "metadata": {
        "id": "TB9ZvF-EZSfu",
        "colab": {
          "base_uri": "https://localhost:8080/"
        },
        "outputId": "78c3c08b-f30c-4507-8ac5-5c3f72b78496"
      },
      "execution_count": 54,
      "outputs": [
        {
          "output_type": "stream",
          "name": "stdout",
          "text": [
            "[6 3 1 7 8]\n"
          ]
        }
      ]
    },
    {
      "cell_type": "markdown",
      "source": [
        "###`Q-18` Answer below asked questions on given array:\n",
        "1. Fetch Every alternate column of the array\n",
        "2. Normalise the given array\n",
        "\n",
        "https://en.wikipedia.org/wiki/Normalization_(statistics)\n",
        "\n",
        "There are different form of normalisation for this question use below formula.\n",
        "\n",
        "$$\\large X_{normalized} = \\frac{X - X_{min}}{X_{max} - X_{min}}$$\n",
        "\n",
        "```python\n",
        "arr1=np.random.randint(low=1, high=10000, size=40).reshape(8,5)\n",
        "```\n"
      ],
      "metadata": {
        "id": "iOQLUIeGc3zA"
      }
    },
    {
      "cell_type": "code",
      "source": [
        "# Given\n",
        "arr1=np.random.randint(low=1, high=10000, size=40).reshape(8,5)\n",
        "arr1"
      ],
      "metadata": {
        "colab": {
          "base_uri": "https://localhost:8080/"
        },
        "id": "vjSm18k3d_1p",
        "outputId": "dcad6809-801e-41bf-877c-f86965237163"
      },
      "execution_count": 56,
      "outputs": [
        {
          "output_type": "execute_result",
          "data": {
            "text/plain": [
              "array([[4054, 4258, 2146,  847, 9052],\n",
              "       [5573, 4200, 3111, 7216,  752],\n",
              "       [8854, 4455,  705, 3330, 4166],\n",
              "       [4593, 3862, 7208,  180, 3012],\n",
              "       [ 536, 4720, 2360, 5949, 3975],\n",
              "       [1839, 1402,  684, 9085, 5293],\n",
              "       [5607, 6028, 7362, 8395, 6918],\n",
              "       [5040, 5071, 8206, 4288, 5747]])"
            ]
          },
          "metadata": {},
          "execution_count": 56
        }
      ]
    },
    {
      "cell_type": "code",
      "source": [
        "#Code here\n",
        "def norm_array(X):\n",
        "    return (X - X.mean())/(X.max() - X.min())"
      ],
      "metadata": {
        "id": "d7u8DB47eBfQ"
      },
      "execution_count": 55,
      "outputs": []
    },
    {
      "cell_type": "code",
      "source": [
        "norm_array(arr1)"
      ],
      "metadata": {
        "colab": {
          "base_uri": "https://localhost:8080/"
        },
        "id": "e_02U0jM1EOS",
        "outputId": "4b705c0f-de43-41b2-a412-1d303ecfaefa"
      },
      "execution_count": 57,
      "outputs": [
        {
          "output_type": "execute_result",
          "data": {
            "text/plain": [
              "array([[-0.05030601, -0.02739753, -0.26456766, -0.41044076,  0.51095171],\n",
              "       [ 0.12027232, -0.03391072, -0.15620157,  0.30477541, -0.42110893],\n",
              "       [ 0.48871701, -0.00527513, -0.42638686, -0.13160865, -0.0377288 ],\n",
              "       [ 0.01022179, -0.07186693,  0.30387704, -0.4853425 , -0.16731892],\n",
              "       [-0.44536496,  0.02448344, -0.24053622,  0.16249579, -0.05917743],\n",
              "       [-0.29904267, -0.34811623, -0.42874509,  0.5146575 ,  0.08882931],\n",
              "       [ 0.1240904 ,  0.17136721,  0.32117069,  0.43717294,  0.27131106],\n",
              "       [ 0.0604183 ,  0.06389949,  0.41594891, -0.02402864,  0.1398119 ]])"
            ]
          },
          "metadata": {},
          "execution_count": 57
        }
      ]
    },
    {
      "cell_type": "markdown",
      "source": [
        "###`Q-19:` Write a function which will accept 2 arguments.\n",
        "First: A 1D numpy array arr\n",
        "\n",
        "Second: An integer n {Please make sure n<=len(arr)}\n",
        "\n",
        "Output: The output should be the nth largest item out of the array\n",
        "```\n",
        "# Example1 : arr=(12,34,40,7,1,0) and n=3, the output should be 12\n",
        "# Example2 : arr=(12,34,40,7,1,0) and n=1, the output should be 40\n",
        "```"
      ],
      "metadata": {
        "id": "jCzsVEKLgGNo"
      }
    },
    {
      "cell_type": "code",
      "source": [
        "#Code here\n",
        "import numpy as np\n",
        "\n",
        "def nth_largest(arr, n):\n",
        "    if not isinstance(arr, np.ndarray) or arr.ndim != 1:\n",
        "        raise ValueError(\"Input must be a 1D numpy array.\")\n",
        "    if not isinstance(n, int) or n > len(arr):\n",
        "        raise ValueError(\"n must be an integer less than or equal to the length of the array.\")\n",
        "    return np.sort(arr)[-n]"
      ],
      "metadata": {
        "id": "J4AzkDk7gXSG"
      },
      "execution_count": 63,
      "outputs": []
    },
    {
      "cell_type": "code",
      "source": [
        "arr = np.array([12, 34, 40, 7, 1, 0])\n",
        "n = 3\n",
        "print(nth_largest(arr, n))"
      ],
      "metadata": {
        "colab": {
          "base_uri": "https://localhost:8080/"
        },
        "id": "V9FE9UNf3N4I",
        "outputId": "a9111a43-df58-4011-8ee6-7e5b77eb1654"
      },
      "execution_count": 64,
      "outputs": [
        {
          "output_type": "stream",
          "name": "stdout",
          "text": [
            "12\n"
          ]
        }
      ]
    },
    {
      "cell_type": "markdown",
      "source": [
        "###`Q-20:` Create the following pattern without hardcoding. Use only numpy functions and the below input array a.\n",
        "```\n",
        "# Input: a = np.array([1,2,3])\n",
        "# Output: array([1, 1, 1, 2, 2, 2, 3, 3, 3, 1, 2, 3, 1, 2, 3, 1, 2, 3])\n",
        "```"
      ],
      "metadata": {
        "id": "ja0xPCgjhBsg"
      }
    },
    {
      "cell_type": "code",
      "source": [
        "import numpy as np\n",
        "\n",
        "a = np.array([1,2,3])\n",
        "first = np.repeat(a, 3)\n",
        "print(first)\n",
        "\n",
        "second = np.tile(a, 3)\n",
        "print(second)\n",
        "\n",
        "c = np.concatenate((first,second))\n",
        "print(c)"
      ],
      "metadata": {
        "id": "CndS8TTNhG0F",
        "colab": {
          "base_uri": "https://localhost:8080/"
        },
        "outputId": "0c99f2b9-13ff-422d-e81c-9af5449d30bf"
      },
      "execution_count": 1,
      "outputs": [
        {
          "output_type": "stream",
          "name": "stdout",
          "text": [
            "[1 1 1 2 2 2 3 3 3]\n",
            "[1 2 3 1 2 3 1 2 3]\n",
            "[1 1 1 2 2 2 3 3 3 1 2 3 1 2 3 1 2 3]\n"
          ]
        }
      ]
    },
    {
      "cell_type": "code",
      "source": [
        "result = np.resize(a, len(a)*3)\n",
        "print(result)"
      ],
      "metadata": {
        "colab": {
          "base_uri": "https://localhost:8080/"
        },
        "id": "c6Frjonj4chZ",
        "outputId": "c853161e-361a-4aec-a4ac-012b8e5c9758"
      },
      "execution_count": 67,
      "outputs": [
        {
          "output_type": "stream",
          "name": "stdout",
          "text": [
            "[1 2 3 1 2 3 1 2 3]\n"
          ]
        }
      ]
    },
    {
      "cell_type": "code",
      "source": [
        "c = np.tile(a, (3, 2))\n",
        "print(c)\n"
      ],
      "metadata": {
        "colab": {
          "base_uri": "https://localhost:8080/"
        },
        "id": "oRcJhaP08QDK",
        "outputId": "9eeca7dc-06d6-4d3c-8b8f-f8faaf3d16f3"
      },
      "execution_count": 5,
      "outputs": [
        {
          "output_type": "stream",
          "name": "stdout",
          "text": [
            "[[1 2 3 1 2 3]\n",
            " [1 2 3 1 2 3]\n",
            " [1 2 3 1 2 3]]\n"
          ]
        }
      ]
    }
  ]
}