{
  "nbformat": 4,
  "nbformat_minor": 0,
  "metadata": {
    "colab": {
      "provenance": [],
      "include_colab_link": true
    },
    "kernelspec": {
      "name": "python3",
      "display_name": "Python 3"
    },
    "language_info": {
      "name": "python"
    }
  },
  "cells": [
    {
      "cell_type": "markdown",
      "metadata": {
        "id": "view-in-github",
        "colab_type": "text"
      },
      "source": [
        "<a href=\"https://colab.research.google.com/github/pranabsarma18/Python-Codes/blob/main/File_Handling_and_Recursion.ipynb\" target=\"_parent\"><img src=\"https://colab.research.google.com/assets/colab-badge.svg\" alt=\"Open In Colab\"/></a>"
      ]
    },
    {
      "cell_type": "markdown",
      "source": [
        "### `Q-1:` Write a function `get_final_line(filename)`, which takes filename as input and return final line of the file.\n",
        "\n",
        "Note: You can choose any file of your choice."
      ],
      "metadata": {
        "id": "MbeMdx5d5qRj"
      }
    },
    {
      "cell_type": "code",
      "source": [
        "# Write code here\n",
        "\n",
        "def get_final_line(filename):\n",
        "  with open('/content/alice.txt', 'r') as f:\n",
        "    lines = f.readlines()\n",
        "    return lines[-1]"
      ],
      "metadata": {
        "id": "rjx9XRTq5uzD"
      },
      "execution_count": null,
      "outputs": []
    },
    {
      "cell_type": "code",
      "source": [
        "filename = '/content/alice.txt'\n",
        "get_final_line(filename)"
      ],
      "metadata": {
        "colab": {
          "base_uri": "https://localhost:8080/",
          "height": 36
        },
        "id": "JKVpQzK20Ndl",
        "outputId": "7fbfbb9b-670c-4908-897b-1a178be3e8b2"
      },
      "execution_count": null,
      "outputs": [
        {
          "output_type": "execute_result",
          "data": {
            "text/plain": [
              "'down a large rabbit-hole under the hedge.'"
            ],
            "application/vnd.google.colaboratory.intrinsic+json": {
              "type": "string"
            }
          },
          "metadata": {},
          "execution_count": 28
        }
      ]
    },
    {
      "cell_type": "markdown",
      "source": [
        "###`Q-2:` Read through a text file, line by line. Use a dict to keep track of how many times each vowel (a, e, i, o, and u) appears in the file. Print the resulting tabulation -- dictionary. "
      ],
      "metadata": {
        "id": "B87Z6-yQ5wVO"
      }
    },
    {
      "cell_type": "code",
      "source": [
        "# Write code here\n",
        "def count_vowels(filename):\n",
        "    vowels = {'a': 0, 'e': 0, 'i': 0, 'o': 0, 'u': 0}\n",
        "    with open(filename, 'r') as f:\n",
        "        for line in f:\n",
        "            for char in line:\n",
        "                if char in vowels:\n",
        "                    vowels[char] += 1\n",
        "    print(vowels)"
      ],
      "metadata": {
        "id": "XeXnOL7X50Sa"
      },
      "execution_count": null,
      "outputs": []
    },
    {
      "cell_type": "code",
      "source": [
        "filename = '/content/alice.txt'\n",
        "count_vowels(filename)"
      ],
      "metadata": {
        "colab": {
          "base_uri": "https://localhost:8080/"
        },
        "id": "5LpWLlkA3EtH",
        "outputId": "84fad695-b0a4-4090-beb8-8ee6992e8196"
      },
      "execution_count": null,
      "outputs": [
        {
          "output_type": "stream",
          "name": "stdout",
          "text": [
            "{'a': 79, 'e': 122, 'i': 75, 'o': 71, 'u': 30}\n"
          ]
        }
      ]
    },
    {
      "cell_type": "markdown",
      "source": [
        "###`Q-3:` Create a text file (using an editor, not necessarily Python) containing two tab separated columns, with each column containing a number. Then use Python to read through the file you’ve created. For each line, multiply each first number by the second and include it in the file in third column. In last add a line Total, by summing the value of third column\n",
        "\n"
      ],
      "metadata": {
        "id": "lRqQ2Y295-Gg"
      }
    },
    {
      "cell_type": "markdown",
      "source": [
        "Input File example: That you need to create\n",
        "```\n",
        "1   2\n",
        "3   4\n",
        "5   6\n",
        "7   8\n",
        "9   10\n",
        "\n",
        "```\n",
        "\n",
        "Output File Example:\n",
        "```\n",
        "1   2   2\n",
        "3   4   12\n",
        "5   6   30\n",
        "7   8   56\n",
        "9   10  90\n",
        "Total   190\n",
        "```\n"
      ],
      "metadata": {
        "id": "GtFfahZc6Bvg"
      }
    },
    {
      "cell_type": "code",
      "source": [
        "# open the input file in read mode\n",
        "with open('input.txt', 'r') as input_file:\n",
        "    # open the output file in write mode\n",
        "    with open('output.txt', 'w') as output_file:\n",
        "        # initialize a variable to store the sum\n",
        "        sum = 0\n",
        "        # iterate over the lines in the input file\n",
        "        for line in input_file:\n",
        "            # split the line by tab character\n",
        "            num1, num2 = line.split('\\t')\n",
        "            # convert the strings to integers\n",
        "            num1 = int(num1)\n",
        "            num2 = int(num2)\n",
        "            # multiply the numbers and add the result to the sum\n",
        "            result = num1 * num2\n",
        "            sum += result\n",
        "            # write the result to the output file\n",
        "            output_file.write(f'{num1}\\t{num2}\\t{result}\\n')\n",
        "        # write the total to the output file\n",
        "        output_file.write(f'Total\\t{sum}')"
      ],
      "metadata": {
        "id": "GiKvqHnr5-j2"
      },
      "execution_count": null,
      "outputs": []
    },
    {
      "cell_type": "markdown",
      "source": [
        "###`Q-4:` Create line wise reverse of a file\n",
        "Write a function which takes two arguments: the names of the input file (to be read from) and the output file (which will be created)."
      ],
      "metadata": {
        "id": "DunQepHC6J9r"
      }
    },
    {
      "cell_type": "markdown",
      "source": [
        "For example, if a file looks like\n",
        " ```\n",
        "abc def\n",
        "ghi jkl\n",
        "```\n",
        "then the output file will be\n",
        "```\n",
        "fed cba\n",
        "lkj ihg\n",
        "```\n",
        "**Notice**: The newline remains at the end of the string, while the rest of the characters are all reversed."
      ],
      "metadata": {
        "id": "QxWEtFle6Nmu"
      }
    },
    {
      "cell_type": "code",
      "source": [
        "# write code here\n",
        "def reverse_file(input_file, output_file):\n",
        "    with open(input_file, 'r') as infile, open(output_file, 'w') as outfile:\n",
        "        for line in infile:\n",
        "            line = line.strip('\\n')\n",
        "            print(line)\n",
        "            outfile.write(line[::-1])\n",
        "            outfile.write('\\n')"
      ],
      "metadata": {
        "id": "aIJTJNAq6LD7"
      },
      "execution_count": null,
      "outputs": []
    },
    {
      "cell_type": "code",
      "source": [
        "input_file = '/content/original.txt'\n",
        "output_file = 'reverse.txt'\n",
        "reverse_file(input_file, output_file)"
      ],
      "metadata": {
        "colab": {
          "base_uri": "https://localhost:8080/"
        },
        "id": "0d6JmRdHBknv",
        "outputId": "b622d0fb-ae9a-43e3-c718-7c8140b07db3"
      },
      "execution_count": null,
      "outputs": [
        {
          "output_type": "stream",
          "name": "stdout",
          "text": [
            "abc def\n",
            "ghi jkl\n"
          ]
        }
      ]
    },
    {
      "cell_type": "markdown",
      "source": [
        "###`Q-5:` Create a Serialized dict of frequency of words in the file. And from given list of words, using serialized dict show word count.\n",
        "\n",
        "* List of word will be given\n",
        "\n"
      ],
      "metadata": {
        "id": "wqvx3sMY6bou"
      }
    },
    {
      "cell_type": "markdown",
      "source": [
        "Given String\n",
        "\n",
        "```\n",
        "strings = \"\"\"Alice was beginning to get very tired of sitting by her sister\n",
        "            on the bank, and of having nothing to do:  once or twice she had\n",
        "            peeped into the book her sister was reading, but it had no\n",
        "            pictures or conversations in it, `and what is the use of a book,'\n",
        "            thought Alice `without pictures or conversation?'\n",
        "\n",
        "            So she was considering in her own mind (as well as she could,\n",
        "            for the hot day made her feel very sleepy and stupid), whether\n",
        "            the pleasure of making a daisy-chain would be worth the trouble\n",
        "            of getting up and picking the daisies, when suddenly a White\n",
        "            Rabbit with pink eyes ran close by her.\n",
        "\n",
        "            There was nothing so VERY remarkable in that; nor did Alice\n",
        "            think it so VERY much out of the way to hear the Rabbit say to\n",
        "            itself, `Oh dear!  Oh dear!  I shall be late!'  (when she thought\n",
        "            it over afterwards, it occurred to her that she ought to have\n",
        "            wondered at this, but at the time it all seemed quite natural);\n",
        "            but when the Rabbit actually TOOK A WATCH OUT OF ITS WAISTCOAT-\n",
        "            POCKET, and looked at it, and then hurried on, Alice started to\n",
        "            her feet, for it flashed across her mind that she had never\n",
        "            before seen a rabbit with either a waistcoat-pocket, or a watch to\n",
        "            take out of it, and burning with curiosity, she ran across the\n",
        "            field after it, and fortunately was just in time to see it pop\n",
        "            down a large rabbit-hole under the hedge.\"\"\"\n",
        "\n",
        "word_list = ['alice', 'wonder', 'natural']\n",
        "```"
      ],
      "metadata": {
        "id": "uc5MSUWg6cZG"
      }
    },
    {
      "cell_type": "code",
      "source": [
        "# write code here\n",
        "import json\n",
        "from collections import defaultdict\n",
        "\n",
        "strings = \"\"\"Alice was beginning to get very tired of sitting by her sister\n",
        "            on the bank, and of having nothing to do:  once or twice she had\n",
        "            peeped into the book her sister was reading, but it had no\n",
        "            pictures or conversations in it, `and what is the use of a book,'\n",
        "            thought Alice `without pictures or conversation?'\n",
        "\n",
        "            So she was considering in her own mind (as well as she could,\n",
        "            for the hot day made her feel very sleepy and stupid), whether\n",
        "            the pleasure of making a daisy-chain would be worth the trouble\n",
        "            of getting up and picking the daisies, when suddenly a White\n",
        "            Rabbit with pink eyes ran close by her.\n",
        "\n",
        "            There was nothing so VERY remarkable in that; nor did Alice\n",
        "            think it so VERY much out of the way to hear the Rabbit say to\n",
        "            itself, `Oh dear!  Oh dear!  I shall be late!'  (when she thought\n",
        "            it over afterwards, it occurred to her that she ought to have\n",
        "            wondered at this, but at the time it all seemed quite natural);\n",
        "            but when the Rabbit actually TOOK A WATCH OUT OF ITS WAISTCOAT-\n",
        "            POCKET, and looked at it, and then hurried on, Alice started to\n",
        "            her feet, for it flashed across her mind that she had never\n",
        "            before seen a rabbit with either a waistcoat-pocket, or a watch to\n",
        "            take out of it, and burning with curiosity, she ran across the\n",
        "            field after it, and fortunately was just in time to see it pop\n",
        "            down a large rabbit-hole under the hedge.\"\"\"\n",
        "\n",
        "word_list = ['alice', 'wondered', 'natural']\n",
        "\n",
        "# Create an empty dictionary to store the word frequency\n",
        "word_freq = defaultdict(int)\n",
        "\n",
        "# Split the string into a list of words\n",
        "words = strings.lower().split()\n",
        "\n",
        "# Iterate through the list of words and update the dictionary with their frequency\n",
        "for word in words:\n",
        "    word_freq[word] += 1\n",
        "\n",
        "# Serialize the dictionary as JSON\n",
        "serialized_dict = json.dumps(word_freq)\n",
        "\n",
        "# Write the serialized dictionary to a file\n",
        "with open('word_freq.json', 'w') as outfile:\n",
        "    json.dump(word_freq, outfile)"
      ],
      "metadata": {
        "id": "-SmtFFUq6a70"
      },
      "execution_count": null,
      "outputs": []
    },
    {
      "cell_type": "code",
      "source": [
        "# Iterate through the list of words and look up their frequency in the dictionary\n",
        "with open('word_freq.json', 'r') as infile:\n",
        "    word_freq_loaded = json.load(infile)\n",
        "for word in word_list:\n",
        "    if word in word_freq_loaded:\n",
        "        word_count = word_freq_loaded[word]\n",
        "        print(f\"The word '{word}' appears {word_count} times in the text.\")\n",
        "    else:\n",
        "        print(f\"The word '{word}' does not appear in the text.\")"
      ],
      "metadata": {
        "colab": {
          "base_uri": "https://localhost:8080/"
        },
        "id": "XfI6q8RAXGFS",
        "outputId": "41986c59-dbc0-487d-ced9-c0d42b490fb6"
      },
      "execution_count": null,
      "outputs": [
        {
          "output_type": "stream",
          "name": "stdout",
          "text": [
            "The word 'alice' appears 4 times in the text.\n",
            "The word 'wondered' appears 1 times in the text.\n",
            "The word 'natural' does not appear in the text.\n"
          ]
        }
      ]
    },
    {
      "cell_type": "markdown",
      "source": [
        "### **`Q-6:`** Given a string calculate length of the string using recursion.\n",
        "\n",
        "**Example 1:**\n",
        "\n",
        "Input:\n",
        "```bash\n",
        "\"abcd\"\n",
        "```\n",
        "\n",
        "Output:\n",
        "\n",
        "```bash\n",
        "4\n",
        "```\n",
        "\n",
        "**Example 2:**\n",
        "\n",
        "Input:\n",
        "```bash\n",
        "DataScience\n",
        "```\n",
        "\n",
        "Output:\n",
        "\n",
        "```bash\n",
        "11\n",
        "```\n"
      ],
      "metadata": {
        "id": "Und2HuFW6kAw"
      }
    },
    {
      "cell_type": "code",
      "source": [
        "# Write code here\n",
        "def string_length(string):\n",
        "    if string == \"\":\n",
        "        return 0\n",
        "    else:\n",
        "        return 1 + string_length(string[1:])"
      ],
      "metadata": {
        "id": "9HE7lB5W61gT"
      },
      "execution_count": null,
      "outputs": []
    },
    {
      "cell_type": "code",
      "source": [
        "s = \"Hello, world!\"\n",
        "length = string_length(s)\n",
        "print(length)  # Outputs: 13"
      ],
      "metadata": {
        "colab": {
          "base_uri": "https://localhost:8080/"
        },
        "id": "FUlSa6jvelmL",
        "outputId": "30506df8-a173-4d3d-df6e-8663d8669109"
      },
      "execution_count": null,
      "outputs": [
        {
          "output_type": "stream",
          "name": "stdout",
          "text": [
            "13\n"
          ]
        }
      ]
    },
    {
      "cell_type": "markdown",
      "source": [
        "### **`Q-7:`** Write a function that accepts two numbers and returns their greatest common divisior. Without using any loop\n",
        "\n",
        "def gcd(int, int) => int\n",
        "\n",
        "```\n",
        "gcd(16,24) will give 8\n",
        "```"
      ],
      "metadata": {
        "id": "iUDvc-jl6759"
      }
    },
    {
      "cell_type": "code",
      "source": [
        "# Write code here\n",
        "def gcd(a, b):\n",
        "    if b == 0:\n",
        "        return a\n",
        "    else:\n",
        "        return gcd(b, a % b)\n",
        "\n",
        "print(gcd(16, 24))  # Outputs: 8"
      ],
      "metadata": {
        "id": "uMQnojHR7O2S",
        "colab": {
          "base_uri": "https://localhost:8080/"
        },
        "outputId": "4225dc2c-371b-421c-a7d9-31785de1bd72"
      },
      "execution_count": null,
      "outputs": [
        {
          "output_type": "stream",
          "name": "stdout",
          "text": [
            "8\n"
          ]
        }
      ]
    },
    {
      "cell_type": "markdown",
      "source": [
        " ### `Q-8:` String Edit Distance\n",
        "\n",
        " Use your recursive function to write a program that reads two strings from the\n",
        "user and displays the edit distance between them.\n",
        "\n",
        "*The edit distance between two strings is a measure of their similarity—the smaller the edit distance, the more similar the strings are with regard to the minimum number of insert, delete and substitute operations needed to transform one string into the other.*\n",
        "\n",
        "Consider the strings `kitten` and `sitting`. The first string can be transformed\n",
        "into the second string with the following operations: \n",
        "* Substitute the `k` with an `s`, \n",
        "* substitute the `e` with an `i`, \n",
        "* and insert a `g` at the end of the string. \n",
        "\n",
        "This is the smallest number of operations that can be performed to transform kitten into sitting. As a result, the edit distance is `3`.\n",
        "\n",
        "\n",
        "Write a recursive function that computes the edit distance between two strings.\n",
        "\n",
        "Use the following algorithm:\n",
        "\n",
        "```\n",
        "Let s and t be the strings\n",
        "    If the length of s is 0 then\n",
        "        Return the length of t\n",
        "    Else if the length of t is 0 then\n",
        "        Return the length of s\n",
        "    Else\n",
        "        Set cost to 0\n",
        "        If the last character in s does not equal the last character in t then\n",
        "            Set cost to 1\n",
        "        Set d1 equal to the edit distance between all characters except the last one in s, and all characters in t, plus 1\n",
        "        Set d2 equal to the edit distance between all characters in s, and all characters except the last one in t, plus 1\n",
        "\n",
        "        Set d3 equal to the edit distance between all characters except the last one in s, and all characters except the last one in t, plus cost\n",
        "        Return the minimum of d1, d2 and d3\n",
        "```\n",
        "\n",
        "\n",
        "\n"
      ],
      "metadata": {
        "id": "wFD35fva7Q_B"
      }
    },
    {
      "cell_type": "code",
      "source": [
        "# write code here\n",
        "def edit_distance(s, t):\n",
        "    if len(s) == 0:\n",
        "        return len(t)\n",
        "    elif len(t) == 0:\n",
        "        return len(s)\n",
        "    else:\n",
        "        cost = 0\n",
        "        if s[-1] != t[-1]:\n",
        "            cost = 1\n",
        "        d1 = edit_distance(s[:-1], t) + 1\n",
        "        d2 = edit_distance(s, t[:-1]) + 1\n",
        "        d3 = edit_distance(s[:-1], t[:-1]) + cost\n",
        "    return min(d1, d2, d3)"
      ],
      "metadata": {
        "id": "zlNy_Q987QOX"
      },
      "execution_count": 5,
      "outputs": []
    },
    {
      "cell_type": "code",
      "source": [
        "s = 'one'\n",
        "t = 'pone'\n",
        "edit_distance(s, t)"
      ],
      "metadata": {
        "colab": {
          "base_uri": "https://localhost:8080/"
        },
        "id": "HqIU2KDAh2yU",
        "outputId": "3b63944f-2477-486a-de88-4406535b8b6b"
      },
      "execution_count": 10,
      "outputs": [
        {
          "output_type": "execute_result",
          "data": {
            "text/plain": [
              "1"
            ]
          },
          "metadata": {},
          "execution_count": 10
        }
      ]
    },
    {
      "cell_type": "code",
      "source": [
        "#Alternative\n",
        "\n",
        "def edit_distance(str1, str2, m, n):\n",
        "    if m == 0:\n",
        "        return n\n",
        "    if n == 0:\n",
        "        return m\n",
        "    if str1[m-1] == str2[n-1]:\n",
        "        return edit_distance(str1, str2, m-1, n-1)\n",
        "    return 1 + min(edit_distance(str1, str2, m, n-1),    # Insert\n",
        "                   edit_distance(str1, str2, m-1, n),    # Remove\n",
        "                   edit_distance(str1, str2, m-1, n-1))  # Replace"
      ],
      "metadata": {
        "id": "GpL7WnQZl_0d"
      },
      "execution_count": null,
      "outputs": []
    },
    {
      "cell_type": "markdown",
      "source": [
        "###`Q-9:` Run-Length Encoding\n",
        "\n",
        "Run-length encoding is a simple data compression technique that can be effective when repeated values occur at adjacent positions within a list. Compression is achieved by replacing groups of repeated values with one copy of the value, followed by the number of times that the value should be repeated. For example, the list \n",
        "```\n",
        "[\"A\", \"A\", \"A\", \"A\", \"A\", \"A\", \"A\", \"A\", \"A\", \"A\", \"A\", \"A\", \"B\", \"B\", \"B\", \"B\", \"A\", \"A\", \"A\", \"A\", \"A\", \"A\", \"B\"]\n",
        "```\n",
        "would be compressed as `[\"A\", 12, \"B\", 4, \"A\", 6, \"B\", 1]`. \n",
        "\n",
        "Write a recursive function that implements the run-length compression technique\n",
        "described above. Your function will take a list or a string as its only parameter. It should return the run-length compressed list as its only result. Include a main program that reads a string from the user, compresses it, and displays the run-length encoded result."
      ],
      "metadata": {
        "id": "Hc9e-qES7iAK"
      }
    },
    {
      "cell_type": "code",
      "source": [
        "# Write code here\n",
        "def compress_list(lst):\n",
        "    if not lst: \n",
        "        return []\n",
        "    if len(lst) == 1:\n",
        "        return [lst[0], 1]\n",
        "    if lst[0] == lst[1]:\n",
        "        i = 2\n",
        "        while i < len(lst) and lst[i] == lst[0]:\n",
        "            i += 1\n",
        "        return [lst[0], i] + compress_list(lst[i:])\n",
        "    return [lst[0], 1] + compress_list(lst[1:])"
      ],
      "metadata": {
        "id": "W2Wb_WzP7qM1"
      },
      "execution_count": 11,
      "outputs": []
    },
    {
      "cell_type": "code",
      "source": [
        "string = [\"A\", \"A\", \"A\", \"A\", \"A\", \"A\", \"A\", \"A\", \"A\", \"A\", \"A\", \"A\", \"B\", \"B\", \"B\", \"B\", \"A\", \"A\", \"A\", \"A\", \"A\", \"A\", \"B\"]\n",
        "compressed_list = compress_list(list(string))\n",
        "print(\"Run-length encoded list:\", compressed_list)"
      ],
      "metadata": {
        "colab": {
          "base_uri": "https://localhost:8080/"
        },
        "id": "9PtK8Nl3mmJ5",
        "outputId": "45aba696-d348-4beb-9485-256a8c0126ce"
      },
      "execution_count": 12,
      "outputs": [
        {
          "output_type": "stream",
          "name": "stdout",
          "text": [
            "Run-length encoded list: ['A', 12, 'B', 4, 'A', 6, 'B', 1]\n"
          ]
        }
      ]
    },
    {
      "cell_type": "markdown",
      "source": [
        "###`Q-10:` Write a recursive function to convert a decimal to binary"
      ],
      "metadata": {
        "id": "x6A-4vGC8SLs"
      }
    },
    {
      "cell_type": "code",
      "source": [
        "# Write code here\n",
        "def decimal_to_binary(decimal):\n",
        "    if decimal == 0:\n",
        "        return \"0\"\n",
        "    if decimal == 1:\n",
        "        return \"1\"\n",
        "    if decimal % 2 == 0:\n",
        "        return decimal_to_binary(decimal // 2) + \"0\"\n",
        "    return decimal_to_binary(decimal // 2) + \"1\""
      ],
      "metadata": {
        "id": "izOr6D9V8aME"
      },
      "execution_count": 13,
      "outputs": []
    },
    {
      "cell_type": "code",
      "source": [
        "decimal = int(input(\"Enter the decimal number: \"))\n",
        "binary = decimal_to_binary(decimal)\n",
        "print(\"Binary representation:\", binary)"
      ],
      "metadata": {
        "colab": {
          "base_uri": "https://localhost:8080/"
        },
        "id": "NWrkIsV7pa7i",
        "outputId": "479f7d6b-4909-4b9a-a211-aabef4a042a3"
      },
      "execution_count": 14,
      "outputs": [
        {
          "output_type": "stream",
          "name": "stdout",
          "text": [
            "Enter the decimal number: 8\n",
            "Binary representation: 1000\n"
          ]
        }
      ]
    }
  ]
}