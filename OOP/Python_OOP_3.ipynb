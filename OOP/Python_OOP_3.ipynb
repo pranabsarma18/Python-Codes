{
  "nbformat": 4,
  "nbformat_minor": 0,
  "metadata": {
    "colab": {
      "provenance": [],
      "collapsed_sections": [
        "sEsGEqOHCSWG"
      ],
      "include_colab_link": true
    },
    "kernelspec": {
      "name": "python3",
      "display_name": "Python 3"
    },
    "language_info": {
      "name": "python"
    }
  },
  "cells": [
    {
      "cell_type": "markdown",
      "metadata": {
        "id": "view-in-github",
        "colab_type": "text"
      },
      "source": [
        "<a href=\"https://colab.research.google.com/github/pranabsarma18/Python-Codes/blob/main/OOP/Python_OOP_3.ipynb\" target=\"_parent\"><img src=\"https://colab.research.google.com/assets/colab-badge.svg\" alt=\"Open In Colab\"/></a>"
      ]
    },
    {
      "cell_type": "markdown",
      "source": [
        "### `Problem-1:` Class inheritence\n",
        "\n",
        "Create a **Bus** child class that inherits from the Vehicle class. The default fare charge of any vehicle is seating capacity * 100. If Vehicle is Bus instance, we need to add an extra 10% on full fare as a maintenance charge. So total fare for bus instance will become the final amount = total fare + 10% of the total fare.\n",
        "\n",
        "Note: The bus seating capacity is 50. so the final fare amount should be 5500. You need to override the fare() method of a Vehicle class in Bus class."
      ],
      "metadata": {
        "id": "BCleRtX43caS"
      }
    },
    {
      "cell_type": "code",
      "execution_count": null,
      "metadata": {
        "colab": {
          "base_uri": "https://localhost:8080/"
        },
        "id": "6jVFCXKz3YZI",
        "outputId": "81d5344f-ed1e-43be-fc85-28d18b354538"
      },
      "outputs": [
        {
          "output_type": "stream",
          "name": "stdout",
          "text": [
            "5500.0\n"
          ]
        }
      ],
      "source": [
        "# Write code here\n",
        "class Vehicle:\n",
        "    def __init__(self, seating_capacity):\n",
        "        self.seating_capacity = seating_capacity\n",
        "\n",
        "    def fare(self):\n",
        "        return self.seating_capacity * 100\n",
        "\n",
        "class Bus(Vehicle):\n",
        "    def __init__(self, seating_capacity):\n",
        "        super().__init__(seating_capacity)\n",
        "\n",
        "    def fare(self):\n",
        "        full_fare = super().fare()\n",
        "        maintenance_charge = full_fare * 0.1\n",
        "        return full_fare + maintenance_charge\n",
        "\n",
        "# Example usage\n",
        "bus = Bus(50)\n",
        "print(bus.fare())  # Output: 5500\n"
      ]
    },
    {
      "cell_type": "markdown",
      "source": [
        "### `Problem-2:` Write a program that has a class Point. Define another class Location which has two objects (Location & Destination) of class Point. Also define a function in Location that prints the reflection of Destination on the x axis."
      ],
      "metadata": {
        "id": "ExIxsv4y-oEd"
      }
    },
    {
      "cell_type": "code",
      "source": [
        "class Point:\n",
        "    def __init__(self, x, y):\n",
        "        self.x = x\n",
        "        self.y = y\n",
        "\n",
        "class Location:\n",
        "    def __init__(self, location, destination):\n",
        "        self.location = location\n",
        "        self.destination = destination\n",
        "\n",
        "    def reflect_on_x_axis(self):\n",
        "        x = self.destination.x\n",
        "        y = -self.destination.y\n",
        "        reflected_point = Point(x, y)\n",
        "        print(f\"The reflection of the point ({self.destination.x}, {self.destination.y}) on the x-axis is ({reflected_point.x}, {reflected_point.y})\")\n"
      ],
      "metadata": {
        "id": "yT2QtzQp5VAB"
      },
      "execution_count": null,
      "outputs": []
    },
    {
      "cell_type": "code",
      "source": [
        "# Example usage\n",
        "location = Point(0, 0)\n",
        "destination = Point(2, 3)\n",
        "trip = Location(location, destination)\n",
        "trip.reflect_on_x_axis()"
      ],
      "metadata": {
        "colab": {
          "base_uri": "https://localhost:8080/"
        },
        "id": "eTR3dDMEoA0b",
        "outputId": "39624907-b02f-4d67-aadc-4b7fcf1f312c"
      },
      "execution_count": null,
      "outputs": [
        {
          "output_type": "stream",
          "name": "stdout",
          "text": [
            "The reflection of the point (2, 3) on the x-axis is (2, -3)\n"
          ]
        }
      ]
    },
    {
      "cell_type": "markdown",
      "source": [
        "### `Problem-3:` Write a program that has an abstract class Polygon. Derive two classes Rectangle and Triamgle from Polygon and write methods to get the details of their dimensions and hence calculate the area."
      ],
      "metadata": {
        "id": "OcQhJvXVALgp"
      }
    },
    {
      "cell_type": "code",
      "source": [
        "from abc import ABC, abstractmethod\n",
        "\n",
        "class Polygon(ABC):\n",
        "    def __init__(self, sides):\n",
        "        self.sides = sides\n",
        "\n",
        "    @abstractmethod\n",
        "    def area(self):\n",
        "        pass\n",
        "\n",
        "class Rectangle(Polygon):\n",
        "    def __init__(self, length, width):\n",
        "        super().__init__(4)\n",
        "        self.length = length\n",
        "        self.width = width\n",
        "\n",
        "    def area(self):\n",
        "        return self.length * self.width\n",
        "\n",
        "class Triangle(Polygon):\n",
        "    def __init__(self, base, height):\n",
        "        super().__init__(3)\n",
        "        self.base = base\n",
        "        self.height = height\n",
        "\n",
        "    def area(self):\n",
        "        return 0.5 * self.base * self.height"
      ],
      "metadata": {
        "id": "9IMrtdUH__eA"
      },
      "execution_count": null,
      "outputs": []
    },
    {
      "cell_type": "code",
      "source": [
        "# Example usage\n",
        "rectangle = Rectangle(2, 3)\n",
        "triangle = Triangle(3, 4)\n",
        "\n",
        "print(f\"The area of the rectangle is {rectangle.area()}\")\n",
        "print(f\"The area of the triangle is {triangle.area()}\")"
      ],
      "metadata": {
        "colab": {
          "base_uri": "https://localhost:8080/"
        },
        "id": "y-QvGLhLo_zi",
        "outputId": "ca891f47-b68a-464d-95ee-5d0a7532dda7"
      },
      "execution_count": null,
      "outputs": [
        {
          "output_type": "stream",
          "name": "stdout",
          "text": [
            "The area of the rectangle is 6\n",
            "The area of the triangle is 6.0\n"
          ]
        }
      ]
    },
    {
      "cell_type": "markdown",
      "source": [
        "### `Problem-4:` Write a program with class Bill. The users have the option to pay the bill either by cheque or by cash. Use the inheritance to model this situation."
      ],
      "metadata": {
        "id": "sEsGEqOHCSWG"
      }
    },
    {
      "cell_type": "code",
      "source": [
        "class Bill:\n",
        "    def __init__(self, amount: float):\n",
        "        self.amount = amount\n",
        "\n",
        "    def pay(self):\n",
        "        raise NotImplementedError\n",
        "\n",
        "class ChequePayment(Bill):\n",
        "    def __init__(self, amount: float, cheque_number: int):\n",
        "        super().__init__(amount)\n",
        "        self.cheque_number = cheque_number\n",
        "\n",
        "    def pay(self):\n",
        "        print(f\"Paying {self.amount} using cheque number {self.cheque_number}\")\n",
        "\n",
        "class CashPayment(Bill):\n",
        "    def pay(self):\n",
        "        print(f\"Paying {self.amount} using cash\")"
      ],
      "metadata": {
        "id": "l0WFyP2PB3nf"
      },
      "execution_count": 1,
      "outputs": []
    },
    {
      "cell_type": "code",
      "source": [
        "# To pay a bill by cheque\n",
        "cheque_payment = ChequePayment(100.0, 123456)\n",
        "cheque_payment.pay()\n",
        "\n",
        "# To pay a bill by cash\n",
        "cash_payment = CashPayment(100.0)\n",
        "cash_payment.pay()"
      ],
      "metadata": {
        "colab": {
          "base_uri": "https://localhost:8080/"
        },
        "id": "7yIP-WRq62Oo",
        "outputId": "a1bfd9c8-1e74-46ae-e93e-9b7996f3b8d8"
      },
      "execution_count": 2,
      "outputs": [
        {
          "output_type": "stream",
          "name": "stdout",
          "text": [
            "Paying 100.0 using cheque number 123456\n",
            "Paying 100.0 using cash\n"
          ]
        }
      ]
    },
    {
      "cell_type": "markdown",
      "source": [
        "###`Q-5:` FlexibleDict\n",
        "As of now we are accessing values from dictionary with exact keys. Now we want to amend accessing values functionality. if a dict have key `1` (int) the even if we try to access values by giving `'1'` (1 as str) as key, we should get the same result and vice versa.\n",
        "\n",
        "Write a class `FlexibleDict` upon builtin `dict` class with above required functionality.\n",
        "\n",
        "Hint- `dict[key] => dict.__getitem__(key)` "
      ],
      "metadata": {
        "id": "v1M5Yh9ZZO0z"
      }
    },
    {
      "cell_type": "markdown",
      "source": [
        "Ex.\n",
        "```\n",
        "fd = FlexibleDict()\n",
        "fd['a'] = 100\n",
        "print(fd['a']) # Like regular dict\n",
        "\n",
        "fd[5] = 500\n",
        "print(fd[5]) # Like regular dict\n",
        "\n",
        "fd[1] = 100\n",
        "print(fd['1']) # actual Key is int but still trying to access through str key.\n",
        "fd['1'] = 100\n",
        "print(fd[1])\n",
        "\n",
        "```\n",
        "`Output:`\n",
        "```\n",
        "100\n",
        "500\n",
        "100\n",
        "100\n",
        "\n",
        "```"
      ],
      "metadata": {
        "id": "uajGeWegbfda"
      }
    },
    {
      "cell_type": "code",
      "source": [
        "class FlexibleDict(dict):\n",
        "    def __getitem__(self, key):\n",
        "        # Try to get the value using the key\n",
        "        # If the key is not found, try to convert the key to an integer and get the value using the integer key\n",
        "        # If the integer key is not found, try to convert the key to a string and get the value using the string key\n",
        "        try:\n",
        "            return super().__getitem__(key)\n",
        "        except KeyError:\n",
        "            try:\n",
        "                return super().__getitem__(int(key))\n",
        "            except (KeyError, ValueError):\n",
        "                return super().__getitem__(str(key))"
      ],
      "metadata": {
        "id": "OHLbOtCxZ2nw"
      },
      "execution_count": 17,
      "outputs": []
    },
    {
      "cell_type": "code",
      "source": [
        "# Test the FlexibleDict class\n",
        "flex_dict = FlexibleDict()\n",
        "\n",
        "flex_dict['a'] = 100\n",
        "print(flex_dict['a'])  # Like regular dict\n",
        "\n",
        "flex_dict[5] = 500\n",
        "print(flex_dict[5])  # Like regular dict\n",
        "\n",
        "flex_dict[1] = 100\n",
        "print(flex_dict['1'])  # actual Key is int but still trying to access through str key.\n",
        "flex_dict['1'] = 100\n",
        "print(flex_dict[1])"
      ],
      "metadata": {
        "colab": {
          "base_uri": "https://localhost:8080/"
        },
        "id": "xPUaBw44-MXt",
        "outputId": "955bf9c0-5932-4b5b-967c-bb5803eecd84"
      },
      "execution_count": 18,
      "outputs": [
        {
          "output_type": "stream",
          "name": "stdout",
          "text": [
            "100\n",
            "500\n",
            "100\n",
            "100\n"
          ]
        }
      ]
    }
  ]
}