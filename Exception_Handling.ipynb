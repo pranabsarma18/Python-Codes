{
  "nbformat": 4,
  "nbformat_minor": 0,
  "metadata": {
    "colab": {
      "provenance": [],
      "include_colab_link": true
    },
    "kernelspec": {
      "name": "python3",
      "display_name": "Python 3"
    },
    "language_info": {
      "name": "python"
    }
  },
  "cells": [
    {
      "cell_type": "markdown",
      "metadata": {
        "id": "view-in-github",
        "colab_type": "text"
      },
      "source": [
        "<a href=\"https://colab.research.google.com/github/pranabsarma18/Python-Codes/blob/main/Exception_Handling.ipynb\" target=\"_parent\"><img src=\"https://colab.research.google.com/assets/colab-badge.svg\" alt=\"Open In Colab\"/></a>"
      ]
    },
    {
      "cell_type": "markdown",
      "source": [
        "## Exception Handling\n"
      ],
      "metadata": {
        "id": "ajVfqio_GinI"
      }
    },
    {
      "cell_type": "markdown",
      "source": [
        "###`Q-1`: You are given a function definition. There might be several issues on execution of this function. You are asked to do exception handling for diffrent errors that this function goes in to `without altering this function`. And print error text.\n",
        "\n"
      ],
      "metadata": {
        "id": "0qnQkJtnGozz"
      }
    },
    {
      "cell_type": "markdown",
      "source": [
        "Function parameters `l -> list, s -> could be anything`\n",
        "\n",
        "```\n",
        "def function(l: list, s, **args):\n",
        "    last_element = l[-1]\n",
        "    \n",
        "    l[int(s)]=10\n",
        "    any_element = l[int(s)+10]\n",
        "    l[s]=10\n",
        "    \n",
        "    res = sum(l)\n",
        "    \n",
        "    p = args['p']\n",
        "    # print(p)\n",
        "    return res/last_element * p + any_element\n",
        "\n",
        "```\n",
        "Check for different function calls:-\n",
        "\n",
        "```\n",
        "function([1,2,1], 12)\n",
        "function([1,2,1]*9, '1-2')\n",
        "function([1,'2',1]*9, 12)\n",
        "function([1,'2',1]*9, 12)\n",
        "function([1,2,0]*9, 12  )\n",
        "function([1,2,1]*9, 12, p=None)\n",
        "function([1,2,0]*9, 12, p=10)\n",
        "```"
      ],
      "metadata": {
        "id": "2no_EB2fGyGq"
      }
    },
    {
      "cell_type": "code",
      "source": [
        "# Write code here\n",
        "def function(l: list, s, **args):\n",
        "    try:\n",
        "        last_element = l[-1]\n",
        "        l[int(s)]=10\n",
        "        any_element = l[int(s)+10]\n",
        "        l[s]=10\n",
        "        res = sum(l)\n",
        "        p = args['p']\n",
        "        print(p)\n",
        "        return res/last_element * p + any_element\n",
        "    except IndexError as e:\n",
        "        print(f\"An IndexError occurred: {e}\")\n",
        "    except TypeError as e:\n",
        "        print(f\"A TypeError occurred: {e}\")\n",
        "    except KeyError as e:\n",
        "        print(f\"A KeyError occurred: {e}\")\n",
        "    except ZeroDivisionError as e:\n",
        "        print(f\"A ZeroDivisionError occurred: {e}\")"
      ],
      "metadata": {
        "id": "VoaL4_9eGjFU"
      },
      "execution_count": 15,
      "outputs": []
    },
    {
      "cell_type": "code",
      "source": [
        "# Function calls\n",
        "function([1,2,1]*9, 12, p='2')"
      ],
      "metadata": {
        "colab": {
          "base_uri": "https://localhost:8080/"
        },
        "id": "dtknHuA-Vpcd",
        "outputId": "a1e7cec0-f42d-4d4d-e090-f27b81ae7125"
      },
      "execution_count": 16,
      "outputs": [
        {
          "output_type": "stream",
          "name": "stdout",
          "text": [
            "2\n",
            "A TypeError occurred: can't multiply sequence by non-int of type 'float'\n"
          ]
        }
      ]
    },
    {
      "cell_type": "markdown",
      "source": [
        "###`Q-2:` You are given a code snippet. There might be several issues on execution of this code. You are asked to do exception handling for diffrent errors, condition is what ever happens we need to execute last line printing correct result of `sum of elements`.\n",
        "\n",
        "List have elemnts as any no of  `key-pair dict with key as list index and value as any integer`, `integers` and `numeric-strings`. There is always only one element in the dict.\n",
        "\n",
        "\n",
        "```\n",
        "l = [{0:2},2,3,4,'5', {5:10}]\n",
        "# For calculating sum of above list\n",
        "s=0\n",
        "for i in range(len(l)):\n",
        "    #You can Edit code from here\n",
        "    s += l[i].get(i)\n",
        "    s += l[i]\n",
        "    s += int(l[i])\n",
        "\n",
        "\n",
        "print(s)\n",
        "```"
      ],
      "metadata": {
        "id": "HuLMy2fVG9sL"
      }
    },
    {
      "cell_type": "code",
      "source": [
        "# Write code here\n",
        "l = [{0:'4'},2,3,4,'5', {5:10}]\n",
        "s = 0\n",
        "for i in range(len(l)):\n",
        "    try:\n",
        "        for key, value in l[i].items():\n",
        "            if key == i:\n",
        "                s += int(value)\n",
        "    except (AttributeError, TypeError):\n",
        "        try:\n",
        "            s += int(l[i])\n",
        "        except (ValueError, TypeError):\n",
        "            pass\n",
        "\n",
        "print(s)"
      ],
      "metadata": {
        "id": "pEP8JU0qHAf8",
        "colab": {
          "base_uri": "https://localhost:8080/"
        },
        "outputId": "49c7618b-4231-4cf3-80de-60a32e31e46b"
      },
      "execution_count": 30,
      "outputs": [
        {
          "output_type": "stream",
          "name": "stdout",
          "text": [
            "28\n"
          ]
        }
      ]
    },
    {
      "cell_type": "markdown",
      "source": [
        "### `Q-3:`: File Handling with Exception handling\n",
        "\n",
        "Write a program that opens a text file and write data to it as \"Hello, Good Morning!!!\". Handle exceptions that can be generated during the I/O operations. Do not show the success message on the main exception handling block (write inside the else block)."
      ],
      "metadata": {
        "id": "ohE2fDTXHIan"
      }
    },
    {
      "cell_type": "code",
      "source": [
        "# write code here\n",
        "try:\n",
        "    with open('example.txt', 'w') as file:\n",
        "        file.write(\"Hello, Good Morning!!!\")\n",
        "except IOError as e:\n",
        "    print(f\"An error occurred while trying to write to the file: {e}\")\n",
        "else:\n",
        "    print(\"Data written to file successfully.\")"
      ],
      "metadata": {
        "id": "iOeiWrcIHPlY",
        "colab": {
          "base_uri": "https://localhost:8080/"
        },
        "outputId": "9348a5c6-892d-4f36-db36-ddbd73cc8dd7"
      },
      "execution_count": 31,
      "outputs": [
        {
          "output_type": "stream",
          "name": "stdout",
          "text": [
            "Data written to file successfully.\n"
          ]
        }
      ]
    },
    {
      "cell_type": "markdown",
      "source": [
        "### `Q-4`: Number game program.\n",
        "\n",
        "Write a number game program. Ask the user to enter a number. If the number is greater than number to be guessed, raise a **ValueTooLarge** exception. If the value is smaller the number to be guessed the, raise a **ValueTooSmall** exception and prompt the user to enter again. Quit the program only when the user enters the correct number. Also raise **GuessError** if user guess a number less than 1."
      ],
      "metadata": {
        "id": "ru8g8-_bHTUf"
      }
    },
    {
      "cell_type": "code",
      "source": [
        "# Write code here\n",
        "class ValueTooSmall(Exception):\n",
        "    pass\n",
        "\n",
        "class ValueTooLarge(Exception):\n",
        "    pass\n",
        "\n",
        "class GuessError(Exception):\n",
        "    pass\n",
        "\n",
        "number_to_guess = 5\n",
        "while True:\n",
        "    try:\n",
        "        user_input = int(input(\"Guess a number between 1 and 10: \"))\n",
        "        if user_input < 1:\n",
        "            raise GuessError(\"Number should be greater than 0\")\n",
        "        elif user_input > number_to_guess:\n",
        "            raise ValueTooLarge(\"Number is too large\")\n",
        "        elif user_input < number_to_guess:\n",
        "            raise ValueTooSmall(\"Number is too small\")\n",
        "        else:\n",
        "            print(\"Congratulations! You have guessed the correct number.\")\n",
        "            break\n",
        "    except ValueTooSmall as e:\n",
        "        print(e)\n",
        "    except ValueTooLarge as e:\n",
        "        print(e)\n",
        "    except GuessError as e:\n",
        "        print(e)\n",
        "    except ValueError:\n",
        "        print(\"Invalid input. Please enter a number.\")"
      ],
      "metadata": {
        "id": "QftlN5LJHZSX",
        "colab": {
          "base_uri": "https://localhost:8080/"
        },
        "outputId": "2d00d991-f923-4d7d-b343-92e0d4256b63"
      },
      "execution_count": 32,
      "outputs": [
        {
          "output_type": "stream",
          "name": "stdout",
          "text": [
            "Guess a number between 1 and 10: 4\n",
            "Number is too small\n",
            "Guess a number between 1 and 10: 5\n",
            "Congratulations! You have guessed the correct number.\n"
          ]
        }
      ]
    },
    {
      "cell_type": "markdown",
      "source": [
        "### `Q-5:` Cast vote\n",
        "\n",
        "Write a program that validate name and age as entered by the user to determine whether the person can cast vote or not. To handle the age, create **InvalidAge** exception and for name, create **InvalidName** exception. The name will be invalid when the string will be empty or name has only one word.\n",
        "\n",
        "Example 1:\n",
        "\n",
        "Input:\n",
        "\n",
        "```bash\n",
        "Enter the name:               goransh singh\n",
        "Enter the age: 25\n",
        "```\n",
        "\n",
        "Output:\n",
        "\n",
        "```bash\n",
        "Goransh Singh  Congratulation !!! You can vote.\n",
        "```"
      ],
      "metadata": {
        "id": "ZsGI_40fHcsd"
      }
    },
    {
      "cell_type": "code",
      "source": [
        "# Write code here\n",
        "class InvalidAge(Exception):\n",
        "    pass\n",
        "\n",
        "class InvalidName(Exception):\n",
        "    pass\n",
        "\n",
        "name = input(\"Enter the name: \")\n",
        "age = input(\"Enter the age: \")\n",
        "\n",
        "try:\n",
        "    if not name or len(name.split()) < 2:\n",
        "        raise InvalidName(\"Name is invalid. Please enter a valid name.\")\n",
        "    if int(age) < 18:\n",
        "        raise InvalidAge(\"Age is invalid. You must be at least 18 years old to vote.\")\n",
        "    name = \" \".join([i.capitalize() for i in name.split()])\n",
        "    print(f\"{name} Congratulation !!! You can vote.\")\n",
        "\n",
        "except InvalidAge as e:\n",
        "    print(e)\n",
        "except InvalidName as e:\n",
        "    print(e)\n",
        "except ValueError:\n",
        "    print(\"Invalid input. Please enter a valid age.\")"
      ],
      "metadata": {
        "id": "OHL3UiS4Hi3U",
        "colab": {
          "base_uri": "https://localhost:8080/"
        },
        "outputId": "9c7bca6b-b675-4b9c-adee-417784e7366c"
      },
      "execution_count": 33,
      "outputs": [
        {
          "output_type": "stream",
          "name": "stdout",
          "text": [
            "Enter the name: goransh singh\n",
            "Enter the age: 25\n",
            "Goransh Singh Congratulation !!! You can vote.\n"
          ]
        }
      ]
    },
    {
      "cell_type": "markdown",
      "source": [
        "### `Q-6`: Write a python function which infinitely prints natural numbers in a single line. Raise the **StopIteration** exception after displaying first 20 numnbers to exit from the program."
      ],
      "metadata": {
        "id": "SCvs0QjgHlOG"
      }
    },
    {
      "cell_type": "code",
      "source": [
        "# Write code here\n",
        "def natural_numbers():\n",
        "    counter = 0\n",
        "    while True:\n",
        "        counter += 1\n",
        "        print(counter, end = ' ')\n",
        "        if counter == 20:\n",
        "            raise StopIteration\n",
        "\n",
        "try:\n",
        "    natural_numbers()\n",
        "except StopIteration:\n",
        "    print(\"\\nStopIteration raised, exiting the program.\")"
      ],
      "metadata": {
        "id": "Lc5ilNgNHoSx",
        "colab": {
          "base_uri": "https://localhost:8080/"
        },
        "outputId": "0be85023-a42f-42dd-a9cd-5b4f674fd296"
      },
      "execution_count": 34,
      "outputs": [
        {
          "output_type": "stream",
          "name": "stdout",
          "text": [
            "1 2 3 4 5 6 7 8 9 10 11 12 13 14 15 16 17 18 19 20 \n",
            "StopIteration raised, exiting the program.\n"
          ]
        }
      ]
    }
  ]
}